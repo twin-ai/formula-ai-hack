{
 "cells": [
  {
   "cell_type": "markdown",
   "metadata": {},
   "source": [
    "# **Learning to Hack Weather Conditions**\n",
    "#### A Machine Learning Workflow for Weather Forecasting\n",
    "#### Team Twin AI ####\n",
    "\n",
    "***Major Contributors to this Notebook:*** Zion Pibowei, Temitayo Adejuyigbe, Anosike Chimaobi Nice*"
   ]
  },
  {
   "cell_type": "markdown",
   "metadata": {},
   "source": [
    "## Background"
   ]
  },
  {
   "cell_type": "markdown",
   "metadata": {},
   "source": [
    "Formula 1 is one of the most competitive sports in the world. Engineers and technicians from every team use weather radar screens, provided by Ubimet to the teams, which allows them to track the current weather and make predictions during the race. Race engineers relay precise information to drivers, including:\n",
    "\n",
    "- How many minutes until it starts raining\n",
    "- Intensity of the rain\n",
    "- Which corner will be hit first by the rain\n",
    "- Duration of the rain\n",
    "\n",
    "Points, and even races sometimes, are won and lost based on making sense of what the weather is going to do during a race, and being prepared as a team to act accordingly.\n",
    "\n",
    "Therefore, weather forecasting takes a big part on the possible outcome of a race.\n",
    "\n",
    "Similarly, F1 2021, the official Formula 1 videogame developed by Codemasters, uses a physics engine that behaves like the real world."
   ]
  },
  {
   "cell_type": "markdown",
   "metadata": {},
   "source": [
    "## The Challenge\n",
    "\n",
    "In this challenge, we will analyse historical weather data from the RedBull Racing eSports team to build a high-performing model that is able to make accurate weather predictions/forecasts. Our objective is to predict the weather type 5, 10, 15, 30 and 60 minutes after a timestamp, and the rain percentage probability at that time. \n",
    "\n",
    "***Our solution is divided into 4 parts, each constituting a workflow on its own:***\n",
    "\n",
    "- Part I: Initial Data Analysis and Preprocessing\n",
    "- Part II: EDA and Feature Selection\n",
    "- Part III: Modelling Methodology\n",
    "- Part IV: Predictions and Exporting"
   ]
  },
  {
   "cell_type": "markdown",
   "metadata": {
    "execution": {
     "iopub.execute_input": "2022-03-01T21:00:12.52902Z",
     "iopub.status.busy": "2022-03-01T21:00:12.528716Z",
     "iopub.status.idle": "2022-03-01T21:00:12.536057Z",
     "shell.execute_reply": "2022-03-01T21:00:12.535013Z",
     "shell.execute_reply.started": "2022-03-01T21:00:12.528991Z"
    }
   },
   "source": [
    "## Part I: Initial Data Analysis and Preprocessing\n",
    "<h4><b>Overview</b></h4>\n",
    "\n",
    "This is the IDA and Preprocessing component of our solution to the FormulaAI Hack 2022 Competition. The workflow for this notebook is outlined as follows: \n",
    "- Getting the Data\n",
    "- First Insights: Making Sense of the Data\n",
    "- Data Integrity Assessments\n",
    "- Cleaning the Data\n"
   ]
  },
  {
   "cell_type": "code",
   "execution_count": null,
   "metadata": {
    "execution": {
     "iopub.execute_input": "2022-03-01T22:01:32.993672Z",
     "iopub.status.busy": "2022-03-01T22:01:32.992856Z",
     "iopub.status.idle": "2022-03-01T22:01:37.846873Z",
     "shell.execute_reply": "2022-03-01T22:01:37.846117Z",
     "shell.execute_reply.started": "2022-03-01T22:01:32.993629Z"
    }
   },
   "outputs": [],
   "source": [
    "import os\n",
    "\n",
    "import pandas as pd\n",
    "import numpy as np\n",
    "pd.set_option('display.max_columns', None, 'display.max_rows', 100)\n",
    "\n",
    "\n",
    "import matplotlib.pyplot as plt\n",
    "from matplotlib import figure\n",
    "%matplotlib inline\n",
    "\n",
    "import seaborn as sns\n",
    "sns.set_context('notebook')\n",
    "sns.set_style('whitegrid')\n",
    "sns.set_palette('Blues_r')\n",
    "\n",
    "#!conda install deepchecks\n",
    "import deepchecks as dc\n",
    "from deepchecks.checks.integrity.is_single_value import IsSingleValue\n",
    "from deepchecks.checks.integrity.data_duplicates import DataDuplicates\n",
    "from deepchecks.checks import DataDuplicates\n",
    "from deepchecks.checks.integrity import LabelAmbiguity\n",
    "from deepchecks.base import Dataset, Suite\n",
    "\n",
    "from sklearn.preprocessing import StandardScaler\n",
    "from scipy import stats\n",
    "\n",
    "import random\n",
    "import time\n",
    "from datetime import datetime\n",
    "\n",
    "import warnings\n",
    "# warnings.filterwarnings('ignore')\n"
   ]
  },
  {
   "cell_type": "code",
   "execution_count": null,
   "metadata": {
    "collapsed": true,
    "execution": {
     "iopub.execute_input": "2022-03-01T21:33:03.31931Z",
     "iopub.status.busy": "2022-03-01T21:33:03.318697Z",
     "iopub.status.idle": "2022-03-01T21:35:25.347421Z",
     "shell.execute_reply": "2022-03-01T21:35:25.346603Z",
     "shell.execute_reply.started": "2022-03-01T21:33:03.319268Z"
    },
    "jupyter": {
     "outputs_hidden": true
    }
   },
   "outputs": [],
   "source": [
    "#!conda install deepchecks -y"
   ]
  },
  {
   "cell_type": "code",
   "execution_count": null,
   "metadata": {
    "execution": {
     "iopub.execute_input": "2022-03-01T22:01:44.806013Z",
     "iopub.status.busy": "2022-03-01T22:01:44.805735Z",
     "iopub.status.idle": "2022-03-01T22:01:44.818232Z",
     "shell.execute_reply": "2022-03-01T22:01:44.817165Z",
     "shell.execute_reply.started": "2022-03-01T22:01:44.805981Z"
    }
   },
   "outputs": [],
   "source": [
    "for dirname, _, filenames in os.walk('/kaggle/input'):\n",
    "    for filename in filenames:\n",
    "        print(os.path.join(dirname, filename))"
   ]
  },
  {
   "cell_type": "code",
   "execution_count": null,
   "metadata": {
    "execution": {
     "iopub.execute_input": "2022-03-01T22:01:46.143596Z",
     "iopub.status.busy": "2022-03-01T22:01:46.143076Z",
     "iopub.status.idle": "2022-03-01T22:02:14.406042Z",
     "shell.execute_reply": "2022-03-01T22:02:14.404956Z",
     "shell.execute_reply.started": "2022-03-01T22:01:46.143546Z"
    }
   },
   "outputs": [],
   "source": [
    "# Reading the CSV file\n",
    "data = pd.read_csv('../input/formulaaihackathon2022/weather.csv',low_memory=False)\n",
    "#data = pd.read_csv('weather.csv')"
   ]
  },
  {
   "cell_type": "markdown",
   "metadata": {},
   "source": [
    "<br>\n",
    "<h4><b>1. First Insights: Making Sense of the Data </b></h4>"
   ]
  },
  {
   "cell_type": "code",
   "execution_count": null,
   "metadata": {
    "execution": {
     "iopub.execute_input": "2022-03-01T22:02:14.414567Z",
     "iopub.status.busy": "2022-03-01T22:02:14.412141Z",
     "iopub.status.idle": "2022-03-01T22:02:14.427514Z",
     "shell.execute_reply": "2022-03-01T22:02:14.426521Z",
     "shell.execute_reply.started": "2022-03-01T22:02:14.414526Z"
    }
   },
   "outputs": [],
   "source": [
    "data.shape"
   ]
  },
  {
   "cell_type": "code",
   "execution_count": null,
   "metadata": {
    "execution": {
     "iopub.execute_input": "2022-03-01T22:02:14.429198Z",
     "iopub.status.busy": "2022-03-01T22:02:14.428906Z",
     "iopub.status.idle": "2022-03-01T22:02:14.456973Z",
     "shell.execute_reply": "2022-03-01T22:02:14.45615Z",
     "shell.execute_reply.started": "2022-03-01T22:02:14.429161Z"
    },
    "scrolled": true
   },
   "outputs": [],
   "source": [
    "data.info() #check the overall information about the dataset"
   ]
  },
  {
   "cell_type": "code",
   "execution_count": null,
   "metadata": {
    "execution": {
     "iopub.execute_input": "2022-03-01T22:02:14.460567Z",
     "iopub.status.busy": "2022-03-01T22:02:14.460348Z",
     "iopub.status.idle": "2022-03-01T22:02:14.496701Z",
     "shell.execute_reply": "2022-03-01T22:02:14.495943Z",
     "shell.execute_reply.started": "2022-03-01T22:02:14.460538Z"
    }
   },
   "outputs": [],
   "source": [
    "data.head(2)"
   ]
  },
  {
   "cell_type": "markdown",
   "metadata": {},
   "source": [
    "<br>In this dataframe, we see that the last column is an unnamed column. Before we drop it, let us inspect the proportion of NaN values it contains.<br>"
   ]
  },
  {
   "cell_type": "code",
   "execution_count": null,
   "metadata": {
    "execution": {
     "iopub.execute_input": "2022-03-01T22:02:14.499219Z",
     "iopub.status.busy": "2022-03-01T22:02:14.498751Z",
     "iopub.status.idle": "2022-03-01T22:02:14.520465Z",
     "shell.execute_reply": "2022-03-01T22:02:14.519628Z",
     "shell.execute_reply.started": "2022-03-01T22:02:14.499181Z"
    }
   },
   "outputs": [],
   "source": [
    "print('Missing values:',data['Unnamed: 58'].isnull().sum())\n",
    "print('Proportion of missing values: {}%'.format(data['Unnamed: 58'].isnull().sum()/data.shape[0]*100))"
   ]
  },
  {
   "cell_type": "markdown",
   "metadata": {},
   "source": [
    "Clearly, the unnamed column is entirely filled with missing values and, as such, has no impact in our workflow. It's presence in the data is most likely due to encoding. Thus, the first treatment to our data is to drop this column."
   ]
  },
  {
   "cell_type": "code",
   "execution_count": null,
   "metadata": {
    "execution": {
     "iopub.execute_input": "2022-03-01T22:02:14.522157Z",
     "iopub.status.busy": "2022-03-01T22:02:14.521823Z",
     "iopub.status.idle": "2022-03-01T22:02:14.983644Z",
     "shell.execute_reply": "2022-03-01T22:02:14.982879Z",
     "shell.execute_reply.started": "2022-03-01T22:02:14.522121Z"
    }
   },
   "outputs": [],
   "source": [
    "data.drop('Unnamed: 58', axis = 1, inplace = True)\n",
    "data.shape[1]"
   ]
  },
  {
   "cell_type": "markdown",
   "metadata": {},
   "source": [
    "Now, let's obtain summary statistics for our data "
   ]
  },
  {
   "cell_type": "code",
   "execution_count": null,
   "metadata": {
    "execution": {
     "iopub.execute_input": "2022-03-01T22:02:14.985511Z",
     "iopub.status.busy": "2022-03-01T22:02:14.98484Z",
     "iopub.status.idle": "2022-03-01T22:02:18.811834Z",
     "shell.execute_reply": "2022-03-01T22:02:18.810971Z",
     "shell.execute_reply.started": "2022-03-01T22:02:14.985465Z"
    }
   },
   "outputs": [],
   "source": [
    "data.describe()"
   ]
  },
  {
   "cell_type": "markdown",
   "metadata": {},
   "source": [
    "<br><b>At a glance:</b>\n",
    "- A quick inspection of the count row shows us that a number of columns contain missing values, ranging from small to large.\n",
    "- A quick inspection of the standard deviation shows us that some columns have zero variance, indicating that <b>each of these columns contain ONLY ONE distinct value</b>. Typically, variables whose standard deviations tend to zero have fewer distinct values.\n",
    "- A quick inspection of the min and max shows us that the very columns having 0 standard deviation <b>contain equal values of minimum and maximum</b>, validating our claim that these columns have only one distinct value.\n",
    "\n",
    "In this project, we will carry out exhaustive analysis of the data to address the implictations of the forgoing discoveries.</b>\n"
   ]
  },
  {
   "cell_type": "markdown",
   "metadata": {},
   "source": [
    "<h4><b>2. Data Integrity Assessments</b></h4>\n",
    "<p>In this section, we will investigate the integrity of the data and uncover any data quality issues that may be present. The insights we obtain in this section will guide us on how to resolve these issues pragmatically in the next section.</p>"
   ]
  },
  {
   "cell_type": "markdown",
   "metadata": {},
   "source": [
    "<p><b>(a) Unique Values</b></p>\n",
    "\n",
    "Our ultimate goal is to build <b>a model that learns the evolution of weather conditions over time</b>. Therefore, we are interested in columns that show variation of values over time. Columns that contain only one unique value <b>may not provide predictive power for the model</b>. We will validate this assumption when we implement feature contribution checks ahead of our model methodology.\n",
    "<p> First, we make a general inspection of the number of unique values contained in all the columns.</p>"
   ]
  },
  {
   "cell_type": "code",
   "execution_count": null,
   "metadata": {
    "execution": {
     "iopub.execute_input": "2022-03-01T22:02:18.813788Z",
     "iopub.status.busy": "2022-03-01T22:02:18.813516Z",
     "iopub.status.idle": "2022-03-01T22:02:20.170767Z",
     "shell.execute_reply": "2022-03-01T22:02:20.169995Z",
     "shell.execute_reply.started": "2022-03-01T22:02:18.813751Z"
    },
    "scrolled": true
   },
   "outputs": [],
   "source": [
    "data.nunique(axis=0).sort_values().to_frame() #check for unique values and sort them into frames"
   ]
  },
  {
   "cell_type": "markdown",
   "metadata": {},
   "source": [
    "From the above result, we can see that there are 7 columns that contain only one unique value. Below, we obtain further information about what these exact values are."
   ]
  },
  {
   "cell_type": "code",
   "execution_count": null,
   "metadata": {
    "execution": {
     "iopub.execute_input": "2022-03-01T21:59:23.7336Z",
     "iopub.status.busy": "2022-03-01T21:59:23.733041Z",
     "iopub.status.idle": "2022-03-01T21:59:25.631123Z",
     "shell.execute_reply": "2022-03-01T21:59:25.63047Z",
     "shell.execute_reply.started": "2022-03-01T21:59:23.733561Z"
    }
   },
   "outputs": [],
   "source": [
    "sv = IsSingleValue()\n",
    "sv.run(data)"
   ]
  },
  {
   "cell_type": "markdown",
   "metadata": {},
   "source": [
    "<br>\n",
    "<p><b>(b) Data Duplicates<b></p>\n",
    "We need to run a duplicate check to find if there are multiple instances of identical samples in our dataset. One reason is that duplicates could be an indicator for a problem in the data pipeline that requires attention. The other is that they can potentially increase the weight that a machine learning model gives to samples. "
   ]
  },
  {
   "cell_type": "code",
   "execution_count": null,
   "metadata": {
    "execution": {
     "iopub.execute_input": "2022-03-01T22:02:24.345077Z",
     "iopub.status.busy": "2022-03-01T22:02:24.34477Z",
     "iopub.status.idle": "2022-03-01T22:02:31.426708Z",
     "shell.execute_reply": "2022-03-01T22:02:31.426002Z",
     "shell.execute_reply.started": "2022-03-01T22:02:24.345042Z"
    },
    "scrolled": true
   },
   "outputs": [],
   "source": [
    "print('Proportion of duplicates: {}%'.format(len(data[data.duplicated()])/data.shape[0]*100))\n",
    "data[data.duplicated()] #check for average duplicate values in the dataset"
   ]
  },
  {
   "cell_type": "markdown",
   "metadata": {},
   "source": [
    "Now, this is only partially informative. We only know that 2057230 samples, representing ~57% of the data, are duplicated. But this doesn't tell us the number of times each example of duplicate data appears. We will obtain the desired information by implementing the following additional checks."
   ]
  },
  {
   "cell_type": "code",
   "execution_count": null,
   "metadata": {
    "execution": {
     "iopub.execute_input": "2022-03-01T22:02:42.254439Z",
     "iopub.status.busy": "2022-03-01T22:02:42.254142Z",
     "iopub.status.idle": "2022-03-01T22:08:06.114179Z",
     "shell.execute_reply": "2022-03-01T22:08:06.113452Z",
     "shell.execute_reply.started": "2022-03-01T22:02:42.254406Z"
    }
   },
   "outputs": [],
   "source": [
    "#from deepchecks.checks import DataDuplicates\n",
    "DataDuplicates().run(data)"
   ]
  },
  {
   "cell_type": "markdown",
   "metadata": {},
   "source": [
    "We can summarise this check by defining a check condition that sets the baseline of duplicate ratio as 0. This will expose any violation to the condition and reveal the present duplicate ratio."
   ]
  },
  {
   "cell_type": "code",
   "execution_count": null,
   "metadata": {},
   "outputs": [],
   "source": [
    "check = DataDuplicates()\n",
    "check.add_condition_ratio_not_greater_than(0)\n",
    "result = check.run(data)\n",
    "result.show(show_additional_outputs=False)"
   ]
  },
  {
   "cell_type": "markdown",
   "metadata": {},
   "source": [
    "We are interested in knowing whether the duplicates observed here were intentionally intended to be part of the data. However, if this is an hidden issue we’re not expecting to occur, then we will need to resolve it. We will revisit this in the EDA component of our workflow."
   ]
  },
  {
   "cell_type": "markdown",
   "metadata": {},
   "source": [
    "<br>\n",
    "<p><b>(c) Label Ambiguity</b></p>"
   ]
  },
  {
   "cell_type": "markdown",
   "metadata": {},
   "source": [
    "We would also like to check whether there are identical samples in the data with different labels. This alerts us to further verify whether or not the data was mislabelled, as mislabelled data could confuse the model and lead to lower model performance."
   ]
  },
  {
   "cell_type": "code",
   "execution_count": null,
   "metadata": {},
   "outputs": [],
   "source": [
    "label_ambig = Dataset(data, label='M_WEATHER')\n",
    "LabelAmbiguity().run(label_ambig)"
   ]
  },
  {
   "cell_type": "markdown",
   "metadata": {},
   "source": [
    "Again, we summarise this check by defining a check condition that sets the baseline of ambiguous sample ratio as 0. This will expose any violation to the condition and reveal the present ambiguous sample ratio."
   ]
  },
  {
   "cell_type": "code",
   "execution_count": null,
   "metadata": {},
   "outputs": [],
   "source": [
    "check = LabelAmbiguity()\n",
    "check.add_condition_ambiguous_sample_ratio_not_greater_than(0)\n",
    "result = check.run(label_ambig)\n",
    "result.show(show_additional_outputs=False)"
   ]
  },
  {
   "cell_type": "markdown",
   "metadata": {},
   "source": [
    "Indeed, we observe that there are no identical samples with different labels."
   ]
  },
  {
   "cell_type": "markdown",
   "metadata": {},
   "source": [
    "<br>\n",
    "<p><b>(d) Missing Values</b></p>"
   ]
  },
  {
   "cell_type": "code",
   "execution_count": null,
   "metadata": {
    "execution": {
     "iopub.execute_input": "2022-03-01T22:11:42.44192Z",
     "iopub.status.busy": "2022-03-01T22:11:42.441213Z",
     "iopub.status.idle": "2022-03-01T22:11:43.007952Z",
     "shell.execute_reply": "2022-03-01T22:11:43.007228Z",
     "shell.execute_reply.started": "2022-03-01T22:11:42.441881Z"
    }
   },
   "outputs": [],
   "source": [
    "data.isna().sum().sort_values().to_frame() #check for missing values and sort them into frames"
   ]
  },
  {
   "cell_type": "code",
   "execution_count": null,
   "metadata": {
    "execution": {
     "iopub.execute_input": "2022-03-01T22:12:03.825088Z",
     "iopub.status.busy": "2022-03-01T22:12:03.824584Z",
     "iopub.status.idle": "2022-03-01T22:12:04.41869Z",
     "shell.execute_reply": "2022-03-01T22:12:04.417829Z",
     "shell.execute_reply.started": "2022-03-01T22:12:03.825029Z"
    }
   },
   "outputs": [],
   "source": [
    "data.notna().sum().sort_values().to_frame() #check for non-missing values and sort them into frames"
   ]
  },
  {
   "cell_type": "markdown",
   "metadata": {},
   "source": [
    "From the above two cells, we immediately note the following:\n",
    "- There are 18 columns with missing values, out of which 7 have only 1 missing value.\n",
    "- Of the 18 columns, the number of missing values found in 8 columns (i.e., 974274 each) and the number found in 2 columns (i.e., 2598054) sum up to the length of the dataframe. \n",
    "\n",
    "Could there be a complimentary relationship, where columns in one set are filled in rows where those of the other set are missing?\n",
    "To uncover this, we isolate the columns <b>M_WEATHER_PERCENTAGE and M_ZONE_START</b> and inspect the distribution of the missing vales across them. Due to the length of the dataframe, we slice a fraction of the data and visualise the distribution of missing values."
   ]
  },
  {
   "cell_type": "code",
   "execution_count": null,
   "metadata": {
    "execution": {
     "iopub.execute_input": "2022-03-01T22:12:54.882046Z",
     "iopub.status.busy": "2022-03-01T22:12:54.881185Z",
     "iopub.status.idle": "2022-03-01T22:12:59.100608Z",
     "shell.execute_reply": "2022-03-01T22:12:59.098731Z",
     "shell.execute_reply.started": "2022-03-01T22:12:54.882008Z"
    },
    "scrolled": true
   },
   "outputs": [],
   "source": [
    "xdf = data.copy()\n",
    "xdf.M_RAIN_PERCENTAGE = np.where(xdf.M_RAIN_PERCENTAGE.isnull(),'1: Missing','1: Present')\n",
    "xdf.M_ZONE_START = np.where(xdf.M_ZONE_START.isnull(),'2: Missing','2: Present')\n",
    "xdf.M_ZONE_START.unique()\n",
    "\n",
    "plt.figure(figsize=(20,30))\n",
    "count = 0\n",
    "for i in range(1,16):\n",
    "    x1 = xdf[count:count+155].M_RAIN_PERCENTAGE\n",
    "    x2 = xdf[count:count+155].M_ZONE_START\n",
    "    index = range(count,count+155)\n",
    "    plt.subplot(5,3,i)\n",
    "    plt.plot(x1,index,'bo',markersize = 2,label='Rain percentage')\n",
    "    plt.plot(x2,index,'ro',markersize = 2,label='Time zone start')\n",
    "    plt.ylabel('Index') \n",
    "    plt.legend(loc='upper right')\n",
    "    plt.grid(False)\n",
    "    count+=155"
   ]
  },
  {
   "cell_type": "markdown",
   "metadata": {},
   "source": [
    "From these plots, we can generalise that the missing values in one column appear in rows where the others are filled. This holds true for the other columns across the two sets. As the insights build up, we willgain better claarity on how to prepare the data to achieve overall completeness and accuracy."
   ]
  },
  {
   "cell_type": "markdown",
   "metadata": {},
   "source": [
    "<br>\n",
    "<h4><b>4. Cleaning the Data</b></h4>"
   ]
  },
  {
   "cell_type": "markdown",
   "metadata": {},
   "source": [
    "<b> (a) We will drop the following rows immediately </b>\n",
    "1. Rows where the number of forcast samples equals 0 as they provide no prediction at time t = 0\n",
    "2. Rows where the session type is unknown (0)\n",
    "3. Rows where the packet received shows a session type of NaN or 0\n",
    "4. Rows where the packet received is sent while the game is paused\n",
    "5. Rows where the packet received shows player is both spectating and playing online (inconsistency)\n",
    "6. Rows where marshal_zone_start or marshal_zone_flag is null, as these indicates gaps in the game"
   ]
  },
  {
   "cell_type": "code",
   "execution_count": null,
   "metadata": {
    "execution": {
     "iopub.execute_input": "2022-03-01T22:26:27.244069Z",
     "iopub.status.busy": "2022-03-01T22:26:27.243783Z",
     "iopub.status.idle": "2022-03-01T22:26:27.832053Z",
     "shell.execute_reply": "2022-03-01T22:26:27.831338Z",
     "shell.execute_reply.started": "2022-03-01T22:26:27.244037Z"
    }
   },
   "outputs": [],
   "source": [
    "df = data.copy()\n",
    "df.shape"
   ]
  },
  {
   "cell_type": "code",
   "execution_count": null,
   "metadata": {
    "execution": {
     "iopub.execute_input": "2022-03-01T22:26:29.052901Z",
     "iopub.status.busy": "2022-03-01T22:26:29.052187Z",
     "iopub.status.idle": "2022-03-01T22:26:29.998881Z",
     "shell.execute_reply": "2022-03-01T22:26:29.998157Z",
     "shell.execute_reply.started": "2022-03-01T22:26:29.052852Z"
    }
   },
   "outputs": [],
   "source": [
    "df.drop(df[df['M_NUM_WEATHER_FORECAST_SAMPLES']==0].index, inplace=True)\n",
    "df[df['M_NUM_WEATHER_FORECAST_SAMPLES']==0].count()"
   ]
  },
  {
   "cell_type": "code",
   "execution_count": null,
   "metadata": {
    "execution": {
     "iopub.execute_input": "2022-03-01T22:26:31.044737Z",
     "iopub.status.busy": "2022-03-01T22:26:31.043936Z",
     "iopub.status.idle": "2022-03-01T22:26:31.050415Z",
     "shell.execute_reply": "2022-03-01T22:26:31.049629Z",
     "shell.execute_reply.started": "2022-03-01T22:26:31.044693Z"
    }
   },
   "outputs": [],
   "source": [
    "df.shape"
   ]
  },
  {
   "cell_type": "code",
   "execution_count": null,
   "metadata": {
    "execution": {
     "iopub.execute_input": "2022-03-01T22:26:32.307078Z",
     "iopub.status.busy": "2022-03-01T22:26:32.30632Z",
     "iopub.status.idle": "2022-03-01T22:26:33.115228Z",
     "shell.execute_reply": "2022-03-01T22:26:33.114512Z",
     "shell.execute_reply.started": "2022-03-01T22:26:32.307039Z"
    }
   },
   "outputs": [],
   "source": [
    "df.drop(df[df['M_SESSION_TYPE']==0].index, inplace=True)\n",
    "df.shape"
   ]
  },
  {
   "cell_type": "code",
   "execution_count": null,
   "metadata": {
    "execution": {
     "iopub.execute_input": "2022-03-01T22:26:33.18406Z",
     "iopub.status.busy": "2022-03-01T22:26:33.183858Z",
     "iopub.status.idle": "2022-03-01T22:26:33.763962Z",
     "shell.execute_reply": "2022-03-01T22:26:33.763136Z",
     "shell.execute_reply.started": "2022-03-01T22:26:33.184035Z"
    }
   },
   "outputs": [],
   "source": [
    "df.drop(df[df['M_GAME_PAUSED']==1].index, inplace=True)\n",
    "df.shape"
   ]
  },
  {
   "cell_type": "code",
   "execution_count": null,
   "metadata": {
    "execution": {
     "iopub.execute_input": "2022-03-01T22:26:34.113805Z",
     "iopub.status.busy": "2022-03-01T22:26:34.113024Z",
     "iopub.status.idle": "2022-03-01T22:26:34.770483Z",
     "shell.execute_reply": "2022-03-01T22:26:34.769765Z",
     "shell.execute_reply.started": "2022-03-01T22:26:34.113763Z"
    }
   },
   "outputs": [],
   "source": [
    "df.drop(df[(df['M_IS_SPECTATING'] == 1) & (df['M_NETWORK_GAME'] == 1)].index, inplace=True)\n",
    "df.shape"
   ]
  },
  {
   "cell_type": "code",
   "execution_count": null,
   "metadata": {
    "execution": {
     "iopub.execute_input": "2022-03-01T22:26:34.864619Z",
     "iopub.status.busy": "2022-03-01T22:26:34.863972Z",
     "iopub.status.idle": "2022-03-01T22:26:35.801574Z",
     "shell.execute_reply": "2022-03-01T22:26:35.800749Z",
     "shell.execute_reply.started": "2022-03-01T22:26:34.864582Z"
    }
   },
   "outputs": [],
   "source": [
    "df.drop(df[df['M_WEATHER_FORECAST_SAMPLES_M_SESSION_TYPE'].isnull()].index, inplace=True)\n",
    "df.shape"
   ]
  },
  {
   "cell_type": "markdown",
   "metadata": {},
   "source": [
    "This last operation leaves the zone start and zone flag columns with NaN values as we can see below. We will therefore eliminate these columns in due time."
   ]
  },
  {
   "cell_type": "code",
   "execution_count": null,
   "metadata": {
    "execution": {
     "iopub.execute_input": "2022-03-01T22:26:36.744843Z",
     "iopub.status.busy": "2022-03-01T22:26:36.744581Z",
     "iopub.status.idle": "2022-03-01T22:26:36.757118Z",
     "shell.execute_reply": "2022-03-01T22:26:36.756351Z",
     "shell.execute_reply.started": "2022-03-01T22:26:36.744811Z"
    }
   },
   "outputs": [],
   "source": [
    "df['M_ZONE_FLAG'].isnull().sum()"
   ]
  },
  {
   "cell_type": "markdown",
   "metadata": {},
   "source": [
    "<br><b>(a) We will drop the following columns immediately:</b>\n",
    "1. Redundant columns not included with the packet, starting with gamehost and timestamp\n",
    "2. Redundant columns with single unique values (i.e., predominantly ID columns)\n",
    "3. Duplicated Columns\n",
    "4. Already Engineered Columns\n",
    "5. Forcast samples columns outside weather and %rainfall, since this is a weather forecast project\n",
    "\n",
    "We start by aggregating the session duration and Session time left column to generate a new column representing the time delta in the game."
   ]
  },
  {
   "cell_type": "code",
   "execution_count": null,
   "metadata": {
    "execution": {
     "iopub.execute_input": "2022-03-01T22:26:40.570985Z",
     "iopub.status.busy": "2022-03-01T22:26:40.570416Z",
     "iopub.status.idle": "2022-03-01T22:26:40.58357Z",
     "shell.execute_reply": "2022-03-01T22:26:40.582672Z",
     "shell.execute_reply.started": "2022-03-01T22:26:40.570944Z"
    }
   },
   "outputs": [],
   "source": [
    "df['M_SESSION_TIME_SPENT'] = df['M_SESSION_DURATION'] - df['M_SESSION_TIME_LEFT']"
   ]
  },
  {
   "cell_type": "code",
   "execution_count": null,
   "metadata": {
    "execution": {
     "iopub.execute_input": "2022-03-01T22:27:26.645152Z",
     "iopub.status.busy": "2022-03-01T22:27:26.644872Z",
     "iopub.status.idle": "2022-03-01T22:27:27.378695Z",
     "shell.execute_reply": "2022-03-01T22:27:27.37797Z",
     "shell.execute_reply.started": "2022-03-01T22:27:26.645116Z"
    }
   },
   "outputs": [],
   "source": [
    "drop_col = ['GAMEHOST','TIMESTAMP', 'M_ZONE_FLAG', 'M_ZONE_START', 'M_SESSION_DURATION', \n",
    "           'M_SESSION_TIME_LEFT', 'M_WEATHER_FORECAST_SAMPLES_M_TRACK_TEMPERATURE', \n",
    "            'M_WEATHER_FORECAST_SAMPLES_M_AIR_TEMPERATURE', 'M_WEATHER_FORECAST_SAMPLES_M_SESSION_TYPE']\n",
    "\n",
    "for col in df.columns:\n",
    "    if df[col].nunique()<2:\n",
    "        drop_col.append(col)\n",
    "print(drop_col)\n",
    "len(drop_col)"
   ]
  },
  {
   "cell_type": "code",
   "execution_count": null,
   "metadata": {
    "execution": {
     "iopub.execute_input": "2022-03-01T22:27:28.52459Z",
     "iopub.status.busy": "2022-03-01T22:27:28.524Z",
     "iopub.status.idle": "2022-03-01T22:27:29.105205Z",
     "shell.execute_reply": "2022-03-01T22:27:29.104404Z",
     "shell.execute_reply.started": "2022-03-01T22:27:28.524548Z"
    }
   },
   "outputs": [],
   "source": [
    "df.drop(drop_col, axis=1, inplace=True)"
   ]
  },
  {
   "cell_type": "code",
   "execution_count": null,
   "metadata": {
    "execution": {
     "iopub.execute_input": "2022-03-01T22:27:30.530059Z",
     "iopub.status.busy": "2022-03-01T22:27:30.52956Z",
     "iopub.status.idle": "2022-03-01T22:27:30.655013Z",
     "shell.execute_reply": "2022-03-01T22:27:30.654151Z",
     "shell.execute_reply.started": "2022-03-01T22:27:30.530018Z"
    }
   },
   "outputs": [],
   "source": [
    "df.count()"
   ]
  },
  {
   "cell_type": "code",
   "execution_count": null,
   "metadata": {
    "execution": {
     "iopub.execute_input": "2022-03-01T22:27:31.454907Z",
     "iopub.status.busy": "2022-03-01T22:27:31.45419Z",
     "iopub.status.idle": "2022-03-01T22:27:31.504054Z",
     "shell.execute_reply": "2022-03-01T22:27:31.503369Z",
     "shell.execute_reply.started": "2022-03-01T22:27:31.454864Z"
    }
   },
   "outputs": [],
   "source": [
    "df.isna().any().sum()"
   ]
  },
  {
   "cell_type": "markdown",
   "metadata": {},
   "source": [
    "<b>(c) Filling in the 6 columns containing single missing values</b>"
   ]
  },
  {
   "cell_type": "code",
   "execution_count": null,
   "metadata": {
    "execution": {
     "iopub.execute_input": "2022-03-01T22:27:33.432754Z",
     "iopub.status.busy": "2022-03-01T22:27:33.432157Z",
     "iopub.status.idle": "2022-03-01T22:27:33.626434Z",
     "shell.execute_reply": "2022-03-01T22:27:33.625542Z",
     "shell.execute_reply.started": "2022-03-01T22:27:33.432713Z"
    }
   },
   "outputs": [],
   "source": [
    "fill_col = df.columns[df.isna().any() == True]\n",
    "for col in fill_col:\n",
    "    df[col].fillna(df[col].mode()[0], inplace=True)\n",
    "df.isna().any().sum()"
   ]
  },
  {
   "cell_type": "code",
   "execution_count": null,
   "metadata": {
    "execution": {
     "iopub.execute_input": "2022-03-01T22:27:34.360704Z",
     "iopub.status.busy": "2022-03-01T22:27:34.360158Z",
     "iopub.status.idle": "2022-03-01T22:27:34.366481Z",
     "shell.execute_reply": "2022-03-01T22:27:34.365608Z",
     "shell.execute_reply.started": "2022-03-01T22:27:34.360666Z"
    }
   },
   "outputs": [],
   "source": [
    "#Shape of data before cleaning\n",
    "data.shape"
   ]
  },
  {
   "cell_type": "code",
   "execution_count": null,
   "metadata": {
    "execution": {
     "iopub.execute_input": "2022-03-02T04:27:16.728390Z",
     "iopub.status.busy": "2022-03-02T04:27:16.728030Z",
     "iopub.status.idle": "2022-03-02T04:27:16.806426Z",
     "shell.execute_reply": "2022-03-02T04:27:16.805467Z",
     "shell.execute_reply.started": "2022-03-02T04:27:16.728277Z"
    }
   },
   "outputs": [],
   "source": [
    "#Shape of data after cleaning\n",
    "df.shape"
   ]
  },
  {
   "cell_type": "code",
   "execution_count": 1,
   "metadata": {},
   "outputs": [],
   "source": [
    "#df.to_csv('cleaned_one.csv', encoding='utf-8', index=False)"
   ]
  }
 ],
 "metadata": {
  "kernelspec": {
   "display_name": "Python 3 (ipykernel)",
   "language": "python",
   "name": "python3"
  },
  "language_info": {
   "codemirror_mode": {
    "name": "ipython",
    "version": 3
   },
   "file_extension": ".py",
   "mimetype": "text/x-python",
   "name": "python",
   "nbconvert_exporter": "python",
   "pygments_lexer": "ipython3",
   "version": "3.7.4"
  }
 },
 "nbformat": 4,
 "nbformat_minor": 4
}
