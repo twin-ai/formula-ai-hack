{
 "cells": [
  {
   "cell_type": "markdown",
   "id": "3c4e4090",
   "metadata": {},
   "source": [
    "## Modelling"
   ]
  },
  {
   "cell_type": "markdown",
   "id": "d375a0fc",
   "metadata": {},
   "source": [
    "### Import Neccesary Libraries"
   ]
  },
  {
   "cell_type": "code",
   "execution_count": 2,
   "id": "74b9500f",
   "metadata": {
    "collapsed": true,
    "jupyter": {
     "outputs_hidden": true
    }
   },
   "outputs": [
    {
     "name": "stdout",
     "output_type": "stream",
     "text": [
      "Collecting tensorflow\n",
      "  Downloading tensorflow-2.6.2-cp36-cp36m-manylinux2010_x86_64.whl (458.3 MB)\n",
      "\u001b[K     |████████████████████████████████| 458.3 MB 2.8 kB/s  eta 0:00:01   |                                | 1.0 MB 12.6 MB/s eta 0:00:37     |▏                               | 1.9 MB 12.6 MB/s eta 0:00:37     |▏                               | 2.7 MB 12.6 MB/s eta 0:00:37     |▎                               | 4.4 MB 12.6 MB/s eta 0:00:37     |▍                               | 5.4 MB 12.6 MB/s eta 0:00:37     |▊                               | 10.6 MB 12.6 MB/s eta 0:00:36     |▉                               | 12.3 MB 12.6 MB/s eta 0:00:36     |█                               | 13.3 MB 12.6 MB/s eta 0:00:36     |█                               | 15.0 MB 12.6 MB/s eta 0:00:36     |█▎                              | 17.6 MB 9.6 MB/s eta 0:00:46     |█▎                              | 18.1 MB 9.6 MB/s eta 0:00:46     |█▍                              | 19.8 MB 9.6 MB/s eta 0:00:46     |█▌                              | 20.8 MB 9.6 MB/s eta 0:00:46     |█▌                              | 21.7 MB 9.6 MB/s eta 0:00:46     |█▉                              | 26.5 MB 9.6 MB/s eta 0:00:45     |██▎                             | 33.1 MB 9.6 MB/s eta 0:00:45     |██▍                             | 34.9 MB 9.6 MB/s eta 0:00:44     |██▋                             | 37.1 MB 9.6 MB/s eta 0:00:44     |███                             | 42.1 MB 9.6 MB/s eta 0:00:44     |███                             | 43.2 MB 9.6 MB/s eta 0:00:44     |███                             | 44.1 MB 9.6 MB/s eta 0:00:43     |███▏                            | 45.1 MB 9.6 MB/s eta 0:00:43     |███▌                            | 49.4 MB 9.6 MB/s eta 0:00:43     |███▊                            | 53.7 MB 23.8 MB/s eta 0:00:18     |████                            | 55.8 MB 23.8 MB/s eta 0:00:17     |████                            | 56.8 MB 23.8 MB/s eta 0:00:17     |████▏                           | 59.4 MB 23.8 MB/s eta 0:00:17     |████▎                           | 61.6 MB 23.8 MB/s eta 0:00:17     |████▍                           | 62.1 MB 23.8 MB/s eta 0:00:17     |████▍                           | 63.2 MB 23.8 MB/s eta 0:00:17     |████▌                           | 64.3 MB 23.8 MB/s eta 0:00:17     |████▋                           | 66.7 MB 23.8 MB/s eta 0:00:17     |████▉                           | 68.6 MB 20.9 MB/s eta 0:00:19     |████▉                           | 69.2 MB 20.9 MB/s eta 0:00:19     |█████                           | 70.7 MB 20.9 MB/s eta 0:00:19     |█████                           | 71.8 MB 20.9 MB/s eta 0:00:19     |█████▎                          | 76.0 MB 20.9 MB/s eta 0:00:19     |█████▋                          | 80.2 MB 20.9 MB/s eta 0:00:19     |█████▊                          | 81.2 MB 20.9 MB/s eta 0:00:19     |█████▉                          | 83.4 MB 20.9 MB/s eta 0:00:18     |██████                          | 84.4 MB 20.9 MB/s eta 0:00:18     |██████                          | 85.4 MB 20.9 MB/s eta 0:00:18     |██████                          | 86.5 MB 10.6 MB/s eta 0:00:36     |██████▎                         | 89.7 MB 10.6 MB/s eta 0:00:35     |██████▎                         | 90.7 MB 10.6 MB/s eta 0:00:35     |██████▍                         | 91.8 MB 10.6 MB/s eta 0:00:35     |██████▌                         | 93.9 MB 10.6 MB/s eta 0:00:35     |██████▋                         | 94.9 MB 10.6 MB/s eta 0:00:35     |██████▊                         | 96.0 MB 10.6 MB/s eta 0:00:35     |██████▉                         | 98.1 MB 10.6 MB/s eta 0:00:35     |███████                         | 99.1 MB 10.6 MB/s eta 0:00:34     |███████▏                        | 102.2 MB 10.6 MB/s eta 0:00:34     |███████▏                        | 103.2 MB 10.6 MB/s eta 0:00:34     |███████▎                        | 104.2 MB 10.6 MB/s eta 0:00:34     |███████▍                        | 105.3 MB 20.8 MB/s eta 0:00:17     |███████▌                        | 107.4 MB 20.8 MB/s eta 0:00:17     |███████▊                        | 110.7 MB 20.8 MB/s eta 0:00:17     |███████▉                        | 111.9 MB 20.8 MB/s eta 0:00:17     |████████                        | 113.7 MB 20.8 MB/s eta 0:00:17     |████████                        | 114.6 MB 20.8 MB/s eta 0:00:17     |████████                        | 115.7 MB 20.8 MB/s eta 0:00:17     |████████▏                       | 117.7 MB 20.8 MB/s eta 0:00:17     |████████▍                       | 119.7 MB 20.8 MB/s eta 0:00:17     |████████▍                       | 120.8 MB 20.8 MB/s eta 0:00:17     |████████▌                       | 121.8 MB 20.8 MB/s eta 0:00:17     |████████▊                       | 124.8 MB 21.6 MB/s eta 0:00:16     |████████▉                       | 125.8 MB 21.6 MB/s eta 0:00:16     |████████▉                       | 126.6 MB 21.6 MB/s eta 0:00:16     |█████████                       | 128.7 MB 21.6 MB/s eta 0:00:16     |█████████▏                      | 130.7 MB 21.6 MB/s eta 0:00:16     |█████████▎                      | 132.7 MB 21.6 MB/s eta 0:00:16     |█████████▌                      | 135.4 MB 21.6 MB/s eta 0:00:15     |█████████▊                      | 139.4 MB 21.6 MB/s eta 0:00:15     |██████████                      | 142.4 MB 21.6 MB/s eta 0:00:15     |██████████                      | 143.4 MB 9.1 MB/s eta 0:00:35     |██████████▍                     | 148.4 MB 9.1 MB/s eta 0:00:35     |██████████▍                     | 149.0 MB 9.1 MB/s eta 0:00:34     |██████████▌                     | 149.7 MB 9.1 MB/s eta 0:00:34     |██████████▋                     | 152.3 MB 9.1 MB/s eta 0:00:34     |███████████                     | 158.2 MB 9.1 MB/s eta 0:00:33     |███████████▎                    | 161.8 MB 20.1 MB/s eta 0:00:15     |███████████▌                    | 164.5 MB 20.1 MB/s eta 0:00:15     |███████████▋                    | 166.2 MB 20.1 MB/s eta 0:00:15     |███████████▊                    | 167.1 MB 20.1 MB/s eta 0:00:15     |███████████▊                    | 167.7 MB 20.1 MB/s eta 0:00:15     |███████████▉                    | 169.9 MB 20.1 MB/s eta 0:00:15     |████████████▎                   | 175.3 MB 20.1 MB/s eta 0:00:15     |████████████▍                   | 178.2 MB 20.1 MB/s eta 0:00:14     |████████████▋                   | 180.1 MB 20.9 MB/s eta 0:00:14     |████████████▋                   | 181.0 MB 20.9 MB/s eta 0:00:14     |████████████▊                   | 181.7 MB 20.9 MB/s eta 0:00:14     |████████████▊                   | 182.7 MB 20.9 MB/s eta 0:00:14     |████████████▉                   | 184.6 MB 20.9 MB/s eta 0:00:14     |█████████████                   | 186.5 MB 20.9 MB/s eta 0:00:14     |█████████████▎                  | 189.4 MB 20.9 MB/s eta 0:00:13     |█████████████▎                  | 190.3 MB 20.9 MB/s eta 0:00:13     |█████████████▍                  | 192.3 MB 20.9 MB/s eta 0:00:13     |█████████████▋                  | 195.1 MB 20.9 MB/s eta 0:00:13     |█████████████▊                  | 196.0 MB 20.9 MB/s eta 0:00:13     |█████████████▊                  | 197.0 MB 20.9 MB/s eta 0:00:13     |█████████████▉                  | 198.8 MB 20.9 MB/s eta 0:00:13     |██████████████                  | 199.7 MB 20.9 MB/s eta 0:00:13     |██████████████                  | 200.4 MB 20.9 MB/s eta 0:00:13     |██████████████                  | 201.2 MB 20.9 MB/s eta 0:00:13     |██████████████▏                 | 203.0 MB 20.9 MB/s eta 0:00:13     |██████████████▍                 | 205.8 MB 20.9 MB/s eta 0:00:13     |██████████████▌                 | 207.7 MB 20.9 MB/s eta 0:00:12     |███████████████                 | 214.1 MB 21.2 MB/s eta 0:00:12     |███████████████                 | 216.0 MB 21.2 MB/s eta 0:00:12     |███████████████▏                | 217.8 MB 21.2 MB/s eta 0:00:12     |███████████████▎                | 219.5 MB 21.2 MB/s eta 0:00:12     |███████████████▍                | 221.2 MB 21.2 MB/s eta 0:00:12     |███████████████▌                | 222.0 MB 21.2 MB/s eta 0:00:12     |███████████████▊                | 225.3 MB 21.2 MB/s eta 0:00:11     |███████████████▉                | 226.7 MB 21.2 MB/s eta 0:00:11     |███████████████▉                | 227.2 MB 21.2 MB/s eta 0:00:11     |████████████████▎               | 233.4 MB 16.3 MB/s eta 0:00:14     |████████████████▌               | 236.9 MB 16.3 MB/s eta 0:00:14     |████████████████▊               | 239.4 MB 16.3 MB/s eta 0:00:14     |████████████████▉               | 240.9 MB 16.3 MB/s eta 0:00:14     |████████████████▉               | 241.6 MB 16.3 MB/s eta 0:00:14     |█████████████████               | 242.4 MB 17.4 MB/s eta 0:00:13     |█████████████████               | 243.7 MB 17.4 MB/s eta 0:00:13     |█████████████████▏              | 246.4 MB 17.4 MB/s eta 0:00:13     |█████████████████▎              | 248.1 MB 17.4 MB/s eta 0:00:13     |█████████████████▍              | 248.9 MB 17.4 MB/s eta 0:00:13     |█████████████████▍              | 249.8 MB 17.4 MB/s eta 0:00:13     |█████████████████▋              | 251.6 MB 17.4 MB/s eta 0:00:12     |█████████████████▋              | 252.5 MB 17.4 MB/s eta 0:00:12     |█████████████████▊              | 254.3 MB 17.4 MB/s eta 0:00:12     |█████████████████▉              | 256.2 MB 17.4 MB/s eta 0:00:12     |██████████████████              | 257.9 MB 16.9 MB/s eta 0:00:12     |██████████████████▏             | 259.5 MB 16.9 MB/s eta 0:00:12     |██████████████████▏             | 260.4 MB 16.9 MB/s eta 0:00:12     |██████████████████▍             | 263.0 MB 16.9 MB/s eta 0:00:12     |██████████████████▍             | 263.9 MB 16.9 MB/s eta 0:00:12     |██████████████████▋             | 265.8 MB 16.9 MB/s eta 0:00:12     |██████████████████▋             | 266.7 MB 16.9 MB/s eta 0:00:12     |██████████████████▊             | 267.7 MB 16.9 MB/s eta 0:00:12     |███████████████████             | 270.7 MB 16.9 MB/s eta 0:00:12     |███████████████████             | 273.6 MB 16.9 MB/s eta 0:00:11     |███████████████████▎            | 276.5 MB 7.5 MB/s eta 0:00:25     |████████████████████▎           | 290.6 MB 7.5 MB/s eta 0:00:23     |████████████████████▍           | 291.4 MB 7.5 MB/s eta 0:00:23     |████████████████████▍           | 292.2 MB 7.5 MB/s eta 0:00:23     |████████████████████▌           | 294.0 MB 7.5 MB/s eta 0:00:22     |████████████████████▋           | 294.9 MB 7.5 MB/s eta 0:00:22     |████████████████████▋           | 295.8 MB 7.5 MB/s eta 0:00:22     |████████████████████▊           | 296.7 MB 9.3 MB/s eta 0:00:18     |█████████████████████▏          | 302.7 MB 9.3 MB/s eta 0:00:17     |█████████████████████▎          | 304.4 MB 9.3 MB/s eta 0:00:17     |█████████████████████▎          | 305.3 MB 9.3 MB/s eta 0:00:17     |█████████████████████▌          | 307.8 MB 9.3 MB/s eta 0:00:17     |█████████████████████▋          | 309.7 MB 9.3 MB/s eta 0:00:16     |█████████████████████▊          | 310.7 MB 9.3 MB/s eta 0:00:16     |██████████████████████          | 314.5 MB 20.7 MB/s eta 0:00:07     |██████████████████████▏         | 317.3 MB 20.7 MB/s eta 0:00:07     |██████████████████████▌         | 322.5 MB 20.7 MB/s eta 0:00:07     |██████████████████████▋         | 323.1 MB 20.7 MB/s eta 0:00:07     |██████████████████████▋         | 323.7 MB 20.7 MB/s eta 0:00:07     |██████████████████████▋         | 324.2 MB 20.7 MB/s eta 0:00:07     |██████████████████████▊         | 324.8 MB 20.7 MB/s eta 0:00:07     |██████████████████████▊         | 325.3 MB 14.0 MB/s eta 0:00:10     |██████████████████████▊         | 325.9 MB 14.0 MB/s eta 0:00:10     |███████████████████████         | 329.4 MB 14.0 MB/s eta 0:00:10     |███████████████████████▍        | 334.4 MB 14.0 MB/s eta 0:00:09     |███████████████████████▌        | 336.2 MB 14.0 MB/s eta 0:00:09     |███████████████████████▋        | 338.0 MB 18.7 MB/s eta 0:00:07     |███████████████████████▊        | 339.4 MB 18.7 MB/s eta 0:00:07     |████████████████████████        | 344.2 MB 18.7 MB/s eta 0:00:07     |████████████████████████▏       | 345.8 MB 18.7 MB/s eta 0:00:07     |████████████████████████▏       | 346.7 MB 18.7 MB/s eta 0:00:06     |████████████████████████▎       | 347.6 MB 18.7 MB/s eta 0:00:06     |████████████████████████▎       | 348.3 MB 18.7 MB/s eta 0:00:06     |████████████████████████▍       | 349.2 MB 18.7 MB/s eta 0:00:06     |████████████████████████▌       | 350.1 MB 18.7 MB/s eta 0:00:06     |████████████████████████▊       | 354.2 MB 9.2 MB/s eta 0:00:12     |████████████████████████▊       | 354.8 MB 9.2 MB/s eta 0:00:12     |█████████████████████████       | 356.5 MB 9.2 MB/s eta 0:00:12     |█████████████████████████       | 357.4 MB 9.2 MB/s eta 0:00:11     |█████████████████████████▏      | 359.9 MB 9.2 MB/s eta 0:00:11     |█████████████████████████▎      | 362.5 MB 9.2 MB/s eta 0:00:11     |█████████████████████████▍      | 363.3 MB 9.2 MB/s eta 0:00:11     |█████████████████████████▌      | 365.0 MB 9.2 MB/s eta 0:00:11     |█████████████████████████▌      | 365.8 MB 9.2 MB/s eta 0:00:11     |█████████████████████████▋      | 366.5 MB 9.2 MB/s eta 0:00:10     |█████████████████████████▊      | 368.1 MB 6.8 MB/s eta 0:00:14     |██████████████████████████▏     | 374.0 MB 6.8 MB/s eta 0:00:13     |██████████████████████████▎     | 375.8 MB 6.8 MB/s eta 0:00:13     |██████████████████████████▎     | 376.6 MB 6.8 MB/s eta 0:00:12     |██████████████████████████▍     | 377.9 MB 6.8 MB/s eta 0:00:12     |██████████████████████████▌     | 379.3 MB 6.8 MB/s eta 0:00:12     |██████████████████████████▌     | 379.9 MB 6.8 MB/s eta 0:00:12     |███████████████████████████     | 386.8 MB 18.2 MB/s eta 0:00:04     |███████████████████████████▏    | 388.6 MB 18.2 MB/s eta 0:00:04     |███████████████████████████▏    | 389.4 MB 18.2 MB/s eta 0:00:04     |███████████████████████████▍    | 392.1 MB 18.2 MB/s eta 0:00:04     |███████████████████████████▍    | 392.9 MB 18.2 MB/s eta 0:00:04     |███████████████████████████▌    | 393.8 MB 18.2 MB/s eta 0:00:04     |███████████████████████████▊    | 397.3 MB 18.2 MB/s eta 0:00:04     |████████████████████████████    | 400.9 MB 7.0 MB/s eta 0:00:09     |████████████████████████████▎   | 405.3 MB 7.0 MB/s eta 0:00:08     |████████████████████████████▌   | 407.7 MB 7.0 MB/s eta 0:00:08     |████████████████████████████▌   | 408.5 MB 7.0 MB/s eta 0:00:08     |████████████████████████████▋   | 409.3 MB 7.0 MB/s eta 0:00:07     |████████████████████████████▊   | 411.0 MB 7.0 MB/s eta 0:00:07     |████████████████████████████▊   | 411.9 MB 7.0 MB/s eta 0:00:07     |████████████████████████████▉   | 412.7 MB 7.0 MB/s eta 0:00:07     |█████████████████████████████▏  | 417.0 MB 19.6 MB/s eta 0:00:03     |█████████████████████████████▎  | 418.8 MB 19.6 MB/s eta 0:00:03     |█████████████████████████████▍  | 420.6 MB 19.6 MB/s eta 0:00:02     |█████████████████████████████▍  | 421.5 MB 19.6 MB/s eta 0:00:02     |█████████████████████████████▊  | 425.5 MB 19.6 MB/s eta 0:00:02     |█████████████████████████████▊  | 426.4 MB 19.6 MB/s eta 0:00:02     |██████████████████████████████  | 429.1 MB 19.6 MB/s eta 0:00:02     |██████████████████████████████  | 430.8 MB 19.9 MB/s eta 0:00:02     |██████████████████████████████▏ | 432.5 MB 19.9 MB/s eta 0:00:02     |██████████████████████████████▋ | 437.9 MB 19.9 MB/s eta 0:00:02     |██████████████████████████████▊ | 440.7 MB 19.9 MB/s eta 0:00:01     |██████████████████████████████▉ | 441.7 MB 19.9 MB/s eta 0:00:01     |███████████████████████████████ | 443.6 MB 19.9 MB/s eta 0:00:01     |███████████████████████████████ | 444.6 MB 19.9 MB/s eta 0:00:01     |███████████████████████████████ | 445.5 MB 19.9 MB/s eta 0:00:01     |███████████████████████████████▏| 446.4 MB 20.9 MB/s eta 0:00:01     |███████████████████████████████▎| 448.4 MB 20.9 MB/s eta 0:00:01     |███████████████████████████████▍| 449.3 MB 20.9 MB/s eta 0:00:01     |███████████████████████████████▋| 452.3 MB 20.9 MB/s eta 0:00:01     |███████████████████████████████▋| 453.2 MB 20.9 MB/s eta 0:00:01     |███████████████████████████████▊| 454.1 MB 20.9 MB/s eta 0:00:01     |███████████████████████████████▉| 456.0 MB 20.9 MB/s eta 0:00:01     |████████████████████████████████| 457.0 MB 20.9 MB/s eta 0:00:01     |████████████████████████████████| 458.0 MB 20.9 MB/s eta 0:00:01\n",
      "\u001b[?25hCollecting tensorflow-estimator<2.7,>=2.6.0\n",
      "  Downloading tensorflow_estimator-2.6.0-py2.py3-none-any.whl (462 kB)\n",
      "\u001b[K     |████████████████████████████████| 462 kB 15.5 MB/s eta 0:00:01\n",
      "\u001b[?25hCollecting absl-py~=0.10\n",
      "  Downloading absl_py-0.15.0-py3-none-any.whl (132 kB)\n",
      "\u001b[K     |████████████████████████████████| 132 kB 11.3 MB/s eta 0:00:01\n",
      "\u001b[?25hCollecting h5py~=3.1.0\n",
      "  Downloading h5py-3.1.0-cp36-cp36m-manylinux1_x86_64.whl (4.0 MB)\n",
      "\u001b[K     |████████████████████████████████| 4.0 MB 15.8 MB/s eta 0:00:01     |█████████▉                      | 1.2 MB 15.8 MB/s eta 0:00:01     |███████████████████████████████▎| 3.9 MB 15.8 MB/s eta 0:00:01\n",
      "\u001b[?25hCollecting tensorboard<2.7,>=2.6.0\n",
      "  Downloading tensorboard-2.6.0-py3-none-any.whl (5.6 MB)\n",
      "\u001b[K     |████████████████████████████████| 5.6 MB 16.9 MB/s eta 0:00:01     |██▍                             | 419 kB 16.9 MB/s eta 0:00:01     |███████▋                        | 1.3 MB 16.9 MB/s eta 0:00:01     |█████████████████▌              | 3.0 MB 16.9 MB/s eta 0:00:01\n",
      "\u001b[?25hCollecting termcolor~=1.1.0\n",
      "  Downloading termcolor-1.1.0.tar.gz (3.9 kB)\n",
      "Collecting wrapt~=1.12.1\n",
      "  Downloading wrapt-1.12.1.tar.gz (27 kB)\n",
      "Requirement already satisfied: numpy~=1.19.2 in /opt/conda/lib/python3.6/site-packages (from tensorflow) (1.19.5)\n",
      "Collecting google-pasta~=0.2\n",
      "  Downloading google_pasta-0.2.0-py3-none-any.whl (57 kB)\n",
      "\u001b[K     |████████████████████████████████| 57 kB 2.5 MB/s eta 0:00:01\n",
      "\u001b[?25hRequirement already satisfied: wheel~=0.35 in /opt/conda/lib/python3.6/site-packages (from tensorflow) (0.37.1)\n",
      "Collecting astunparse~=1.6.3\n",
      "  Downloading astunparse-1.6.3-py2.py3-none-any.whl (12 kB)\n",
      "Collecting six~=1.15.0\n",
      "  Downloading six-1.15.0-py2.py3-none-any.whl (10 kB)\n",
      "Collecting typing-extensions~=3.7.4\n",
      "  Downloading typing_extensions-3.7.4.3-py3-none-any.whl (22 kB)\n",
      "Collecting opt-einsum~=3.3.0\n",
      "  Downloading opt_einsum-3.3.0-py3-none-any.whl (65 kB)\n",
      "\u001b[K     |████████████████████████████████| 65 kB 2.8 MB/s eta 0:00:01\n",
      "\u001b[?25hCollecting clang~=5.0\n",
      "  Downloading clang-5.0.tar.gz (30 kB)\n",
      "Collecting keras-preprocessing~=1.1.2\n",
      "  Downloading Keras_Preprocessing-1.1.2-py2.py3-none-any.whl (42 kB)\n",
      "\u001b[K     |████████████████████████████████| 42 kB 744 kB/s  eta 0:00:01\n",
      "\u001b[?25hCollecting grpcio<2.0,>=1.37.0\n",
      "  Downloading grpcio-1.44.0-cp36-cp36m-manylinux_2_17_x86_64.manylinux2014_x86_64.whl (4.3 MB)\n",
      "\u001b[K     |████████████████████████████████| 4.3 MB 15.6 MB/s eta 0:00:01    |▋                               | 81 kB 15.4 MB/s eta 0:00:01\n",
      "\u001b[?25hCollecting keras<2.7,>=2.6.0\n",
      "  Downloading keras-2.6.0-py2.py3-none-any.whl (1.3 MB)\n",
      "\u001b[K     |████████████████████████████████| 1.3 MB 19.0 MB/s eta 0:00:01     |███                             | 122 kB 19.0 MB/s eta 0:00:01\n",
      "\u001b[?25hCollecting gast==0.4.0\n",
      "  Downloading gast-0.4.0-py3-none-any.whl (9.8 kB)\n",
      "Collecting flatbuffers~=1.12.0\n",
      "  Downloading flatbuffers-1.12-py2.py3-none-any.whl (15 kB)\n",
      "Collecting protobuf>=3.9.2\n",
      "  Downloading protobuf-3.19.4-cp36-cp36m-manylinux_2_17_x86_64.manylinux2014_x86_64.whl (1.1 MB)\n",
      "\u001b[K     |████████████████████████████████| 1.1 MB 18.5 MB/s eta 0:00:01\n",
      "\u001b[?25hCollecting cached-property\n",
      "  Downloading cached_property-1.5.2-py2.py3-none-any.whl (7.6 kB)\n",
      "Requirement already satisfied: requests<3,>=2.21.0 in /opt/conda/lib/python3.6/site-packages (from tensorboard<2.7,>=2.6.0->tensorflow) (2.26.0)\n",
      "Requirement already satisfied: markdown>=2.6.8 in /opt/conda/lib/python3.6/site-packages (from tensorboard<2.7,>=2.6.0->tensorflow) (3.3.6)\n",
      "Requirement already satisfied: setuptools>=41.0.0 in /opt/conda/lib/python3.6/site-packages (from tensorboard<2.7,>=2.6.0->tensorflow) (58.0.4)\n",
      "Collecting tensorboard-plugin-wit>=1.6.0\n",
      "  Downloading tensorboard_plugin_wit-1.8.1-py3-none-any.whl (781 kB)\n",
      "\u001b[K     |████████████████████████████████| 781 kB 18.2 MB/s eta 0:00:01     |███████████████████████▌        | 573 kB 18.2 MB/s eta 0:00:01\n",
      "\u001b[?25hCollecting werkzeug>=0.11.15\n",
      "  Downloading Werkzeug-2.0.3-py3-none-any.whl (289 kB)\n",
      "\u001b[K     |████████████████████████████████| 289 kB 7.0 MB/s eta 0:00:01\n",
      "\u001b[?25hCollecting google-auth-oauthlib<0.5,>=0.4.1\n",
      "  Downloading google_auth_oauthlib-0.4.6-py2.py3-none-any.whl (18 kB)\n",
      "Collecting tensorboard-data-server<0.7.0,>=0.6.0\n",
      "  Downloading tensorboard_data_server-0.6.1-py3-none-manylinux2010_x86_64.whl (4.9 MB)\n",
      "\u001b[K     |████████████████████████████████| 4.9 MB 10.3 MB/s eta 0:00:01     |█████████████████               | 2.6 MB 10.3 MB/s eta 0:00:01\n",
      "\u001b[?25hCollecting google-auth<2,>=1.6.3\n",
      "  Downloading google_auth-1.35.0-py2.py3-none-any.whl (152 kB)\n",
      "\u001b[K     |████████████████████████████████| 152 kB 18.9 MB/s eta 0:00:01\n",
      "\u001b[?25hCollecting rsa<5,>=3.1.4\n",
      "  Downloading rsa-4.8-py3-none-any.whl (39 kB)\n",
      "Collecting pyasn1-modules>=0.2.1\n",
      "  Downloading pyasn1_modules-0.2.8-py2.py3-none-any.whl (155 kB)\n",
      "\u001b[K     |████████████████████████████████| 155 kB 19.3 MB/s eta 0:00:01\n",
      "\u001b[?25hCollecting cachetools<5.0,>=2.0.0\n",
      "  Downloading cachetools-4.2.4-py3-none-any.whl (10 kB)\n",
      "Collecting requests-oauthlib>=0.7.0\n",
      "  Downloading requests_oauthlib-1.3.1-py2.py3-none-any.whl (23 kB)\n",
      "Requirement already satisfied: importlib-metadata>=4.4 in /opt/conda/lib/python3.6/site-packages (from markdown>=2.6.8->tensorboard<2.7,>=2.6.0->tensorflow) (4.8.1)\n",
      "Requirement already satisfied: zipp>=0.5 in /opt/conda/lib/python3.6/site-packages (from importlib-metadata>=4.4->markdown>=2.6.8->tensorboard<2.7,>=2.6.0->tensorflow) (3.5.0)\n",
      "Collecting pyasn1<0.5.0,>=0.4.6\n",
      "  Downloading pyasn1-0.4.8-py2.py3-none-any.whl (77 kB)\n",
      "\u001b[K     |████████████████████████████████| 77 kB 5.9 MB/s  eta 0:00:01\n",
      "\u001b[?25hRequirement already satisfied: certifi>=2017.4.17 in /opt/conda/lib/python3.6/site-packages (from requests<3,>=2.21.0->tensorboard<2.7,>=2.6.0->tensorflow) (2020.6.20)\n",
      "Requirement already satisfied: charset-normalizer~=2.0.0 in /opt/conda/lib/python3.6/site-packages (from requests<3,>=2.21.0->tensorboard<2.7,>=2.6.0->tensorflow) (2.0.0)\n",
      "Requirement already satisfied: idna<4,>=2.5 in /opt/conda/lib/python3.6/site-packages (from requests<3,>=2.21.0->tensorboard<2.7,>=2.6.0->tensorflow) (3.3)\n",
      "Requirement already satisfied: urllib3<1.27,>=1.21.1 in /opt/conda/lib/python3.6/site-packages (from requests<3,>=2.21.0->tensorboard<2.7,>=2.6.0->tensorflow) (1.26.6)\n",
      "Collecting oauthlib>=3.0.0\n",
      "  Downloading oauthlib-3.2.0-py3-none-any.whl (151 kB)\n",
      "\u001b[K     |████████████████████████████████| 151 kB 34.8 MB/s eta 0:00:01\n",
      "\u001b[?25hRequirement already satisfied: dataclasses in /opt/conda/lib/python3.6/site-packages (from werkzeug>=0.11.15->tensorboard<2.7,>=2.6.0->tensorflow) (0.8)\n",
      "Building wheels for collected packages: clang, termcolor, wrapt\n",
      "  Building wheel for clang (setup.py) ... \u001b[?25ldone\n",
      "\u001b[?25h  Created wheel for clang: filename=clang-5.0-py3-none-any.whl size=30694 sha256=0e6f65a57dd07a360bae79d8c4fea574c56a15d70e9f2b974b5f669c9d9c2853\n",
      "  Stored in directory: /home/datascience/.cache/pip/wheels/22/4c/94/0583f60c9c5b6024ed64f290cb2d43b06bb4f75577dc3c93a7\n",
      "  Building wheel for termcolor (setup.py) ... \u001b[?25ldone\n",
      "\u001b[?25h  Created wheel for termcolor: filename=termcolor-1.1.0-py3-none-any.whl size=4848 sha256=6dee8d551024dc6a59826c6e8b20f8cff4d8f3c975af7dd7eeebcfd134eeb2de\n",
      "  Stored in directory: /home/datascience/.cache/pip/wheels/93/2a/eb/e58dbcbc963549ee4f065ff80a59f274cc7210b6eab962acdc\n",
      "  Building wheel for wrapt (setup.py) ... \u001b[?25ldone\n",
      "\u001b[?25h  Created wheel for wrapt: filename=wrapt-1.12.1-cp36-cp36m-linux_x86_64.whl size=66641 sha256=839d2996b7285dbdf8c985a9906f436c1c4e5ebd14394fff266b79460e2280d6\n",
      "  Stored in directory: /home/datascience/.cache/pip/wheels/32/42/7f/23cae9ff6ef66798d00dc5d659088e57dbba01566f6c60db63\n",
      "Successfully built clang termcolor wrapt\n",
      "Installing collected packages: pyasn1, typing-extensions, six, rsa, pyasn1-modules, oauthlib, cachetools, requests-oauthlib, google-auth, werkzeug, tensorboard-plugin-wit, tensorboard-data-server, protobuf, grpcio, google-auth-oauthlib, cached-property, absl-py, wrapt, termcolor, tensorflow-estimator, tensorboard, opt-einsum, keras-preprocessing, keras, h5py, google-pasta, gast, flatbuffers, clang, astunparse, tensorflow\n",
      "  Attempting uninstall: typing-extensions\n",
      "    Found existing installation: typing-extensions 3.10.0.2\n",
      "    Uninstalling typing-extensions-3.10.0.2:\n",
      "      Successfully uninstalled typing-extensions-3.10.0.2\n",
      "  Attempting uninstall: six\n",
      "    Found existing installation: six 1.16.0\n",
      "    Uninstalling six-1.16.0:\n",
      "      Successfully uninstalled six-1.16.0\n",
      "Successfully installed absl-py-0.15.0 astunparse-1.6.3 cached-property-1.5.2 cachetools-4.2.4 clang-5.0 flatbuffers-1.12 gast-0.4.0 google-auth-1.35.0 google-auth-oauthlib-0.4.6 google-pasta-0.2.0 grpcio-1.44.0 h5py-3.1.0 keras-2.6.0 keras-preprocessing-1.1.2 oauthlib-3.2.0 opt-einsum-3.3.0 protobuf-3.19.4 pyasn1-0.4.8 pyasn1-modules-0.2.8 requests-oauthlib-1.3.1 rsa-4.8 six-1.15.0 tensorboard-2.6.0 tensorboard-data-server-0.6.1 tensorboard-plugin-wit-1.8.1 tensorflow-2.6.2 tensorflow-estimator-2.6.0 termcolor-1.1.0 typing-extensions-3.7.4.3 werkzeug-2.0.3 wrapt-1.12.1\n"
     ]
    }
   ],
   "source": [
    "! pip install tensorflow"
   ]
  },
  {
   "cell_type": "code",
   "execution_count": 2,
   "id": "37138088",
   "metadata": {},
   "outputs": [],
   "source": [
    "from sklearn.preprocessing import StandardScaler\n",
    "from sklearn.metrics import mean_absolute_error\n",
    "from tensorflow.keras.utils import plot_model\n",
    "from sklearn.metrics import accuracy_score\n",
    "from tensorflow.keras.models import Model\n",
    "import matplotlib.pyplot as plt\n",
    "import tensorflow as tf\n",
    "import pandas as pd\n",
    "import numpy as np\n",
    "import datetime\n",
    "import os"
   ]
  },
  {
   "cell_type": "code",
   "execution_count": null,
   "id": "8e632df2",
   "metadata": {},
   "outputs": [],
   "source": [
    "# Import custom helper functions\n",
    "from helpers import make_windows,train_test_split,model_checkpoint_callback, evaluate_model, predict, plot_series"
   ]
  },
  {
   "cell_type": "code",
   "execution_count": 4,
   "id": "e9a9cd30",
   "metadata": {},
   "outputs": [],
   "source": [
    "pd.set_option('display.max_columns', None, 'display.max_rows', 100)"
   ]
  },
  {
   "cell_type": "markdown",
   "id": "59a7e511",
   "metadata": {},
   "source": [
    "## Import data"
   ]
  },
  {
   "cell_type": "code",
   "execution_count": null,
   "id": "c0c7a1d6",
   "metadata": {},
   "outputs": [],
   "source": [
    "data = pd.read_csv('clean_data.csv')"
   ]
  },
  {
   "cell_type": "code",
   "execution_count": null,
   "id": "30f44dde",
   "metadata": {},
   "outputs": [],
   "source": [
    "data.head(3)"
   ]
  },
  {
   "cell_type": "markdown",
   "id": "317071be",
   "metadata": {},
   "source": [
    "## Split our data into features and labels\n",
    "We will take a two way to solve this problem, first we will create a model to predict the weather after which we will create another to predict the Rain percentage."
   ]
  },
  {
   "cell_type": "markdown",
   "id": "d4b41a49",
   "metadata": {},
   "source": [
    "# **Weather prediction data**"
   ]
  },
  {
   "cell_type": "code",
   "execution_count": 4,
   "id": "cb611dd4",
   "metadata": {},
   "outputs": [],
   "source": [
    "weather_X = data.drop('M_WEATHER', axis=1)\n",
    "weather_y = data['M_WEATHER']"
   ]
  },
  {
   "cell_type": "markdown",
   "id": "711e57b1",
   "metadata": {},
   "source": [
    "## Split into training and test splits"
   ]
  },
  {
   "cell_type": "code",
   "execution_count": 5,
   "id": "71b7967e",
   "metadata": {},
   "outputs": [],
   "source": [
    "from sklearn.model_selection import train_test_split"
   ]
  },
  {
   "cell_type": "code",
   "execution_count": 6,
   "id": "fdf530e9",
   "metadata": {},
   "outputs": [],
   "source": [
    "weather_X_train, weather_X_test, weather_y_train, weather_y_test = train_test_split(weather_X, weather_y, test_size=.25, random_state=42)"
   ]
  },
  {
   "cell_type": "markdown",
   "id": "e3a54b52",
   "metadata": {},
   "source": [
    "##### **Model Architecture for Weather Prediction**"
   ]
  },
  {
   "cell_type": "code",
   "execution_count": 11,
   "id": "f594869c",
   "metadata": {},
   "outputs": [],
   "source": [
    "# Convert our data to tensors\n",
    "weather_X_train = tf.constant(tf.cast(weather_X_train, tf.float32))\n",
    "weather_y_train = tf.constant(tf.cast(weather_y_train, tf.float32))\n",
    "\n",
    "weather_X_test = tf.constant(tf.cast(weather_X_test, tf.float32))\n",
    "weather_y_test = tf.constant(tf.cast(weather_y_test, tf.float32))"
   ]
  },
  {
   "cell_type": "code",
   "execution_count": 12,
   "id": "9c9b4f83",
   "metadata": {},
   "outputs": [
    {
     "data": {
      "text/plain": [
       "(TensorShape([1467808, 37]),\n",
       " TensorShape([489270, 37]),\n",
       " TensorShape([1467808]),\n",
       " TensorShape([489270]))"
      ]
     },
     "execution_count": 12,
     "metadata": {},
     "output_type": "execute_result"
    }
   ],
   "source": [
    "weather_X_train.shape, weather_X_test.shape, weather_y_train.shape, weather_y_test.shape"
   ]
  },
  {
   "cell_type": "code",
   "execution_count": 13,
   "id": "a02e5dfa",
   "metadata": {},
   "outputs": [
    {
     "data": {
      "text/plain": [
       "<AxesSubplot:>"
      ]
     },
     "execution_count": 13,
     "metadata": {},
     "output_type": "execute_result"
    },
    {
     "data": {
      "image/png": "[encoded data removed]",
      "text/plain": [
       "<Figure size 432x288 with 1 Axes>"
      ]
     },
     "metadata": {
      "needs_background": "light"
     },
     "output_type": "display_data"
    }
   ],
   "source": [
    "# Visualize the target variable value counts\n",
    "data['M_WEATHER'].value_counts().plot(kind='bar')"
   ]
  },
  {
   "cell_type": "markdown",
   "id": "5ddc5182",
   "metadata": {},
   "source": [
    "## Experiment 1 (Classification) 🔬"
   ]
  },
  {
   "cell_type": "code",
   "execution_count": null,
   "id": "98387260",
   "metadata": {},
   "outputs": [],
   "source": [
    "# Create a random seed to make our model reproducible\n",
    "tf.random.set_seed(42)\n",
    "\n",
    "weather_base_model = tf.keras.Sequential([\n",
    "    tf.keras.layers.Dense(64, activation='relu',kernel_regularizer=tf.keras.regularizers.L1(0.01)),\n",
    "    tf.keras.layers.Dense(32, activation='relu',kernel_regularizer=tf.keras.regularizers.L1L2(l1=0.01, l2=0.01)),\n",
    "    tf.keras.layers.Dropout(.2),\n",
    "    tf.keras.layers.Dense(1, activation='softmax')\n",
    "], name='weather_base_model')\n",
    "\n",
    "# compile our model\n",
    "weather_base_model.compile(loss=tf.keras.losses.CategoricalCrossentropy(),\n",
    "                           optimizer=tf.keras.optimizers.SGD(),\n",
    "                           metrics=['accuracy'])\n",
    "\n",
    "# fit our model\n",
    "weather_history1 = weather_base_model.fit(weather_X_train, \n",
    "                        weather_y_train, \n",
    "                        epochs=10, \n",
    "                        batch_size=32,\n",
    "                        validation_data=(weather_X_test, weather_y_test),\n",
    "                        callbacks=[model_checkpoint_callback('WeatherBaseModel')])\n",
    "\n",
    "# summarize our model\n",
    "weather_base_model.summary()"
   ]
  },
  {
   "cell_type": "code",
   "execution_count": 15,
   "id": "90a856fb",
   "metadata": {},
   "outputs": [],
   "source": [
    "def plot_history(history):\n",
    "    \"\"\"\n",
    "    Returns a plots of model learning history object\n",
    "    Args:\n",
    "        history: Model's learning history object\n",
    "    \n",
    "    Returns:\n",
    "        A plot of of model learning history\n",
    "    \"\"\"\n",
    "\n",
    "    train_loss = history.history['loss']\n",
    "    val_loss = history.history['val_loss']\n",
    "\n",
    "    train_accuracy = history.history['accuracy']\n",
    "    val_accuracy = history.history['val_accuracy']\n",
    "\n",
    "    # Plot the histories\n",
    "    plt.plot(train_loss, label=\"Train Loss\")\n",
    "    plt.plot(val_loss, label=\"Val Loss\")\n",
    "    plt.xlabel('Epochs')\n",
    "    plt.title('Loss Curves')\n",
    "    plt.legend()\n",
    "\n",
    "    # Plot the accuracy\n",
    "    plt.figure()\n",
    "    plt.plot(train_accuracy, label=\"Train Accuracy\")\n",
    "    plt.plot(val_accuracy, label=\"Val Accuracy\")\n",
    "    plt.xlabel('Epochs')\n",
    "    plt.title('Accuracy')\n",
    "    plt.legend()"
   ]
  },
  {
   "cell_type": "code",
   "execution_count": null,
   "id": "11bea7a9",
   "metadata": {},
   "outputs": [],
   "source": [
    "plot_history(weather_history1)"
   ]
  },
  {
   "cell_type": "markdown",
   "id": "8ba8e8c9",
   "metadata": {},
   "source": [
    "😌 Right now we are experiencing an exploding gradients problem. This is obviously because:\n",
    "\n",
    "* The model is unable to get traction on our training data (e.g. poor loss).\n",
    "* The model is unstable, resulting in large changes in loss from update to update.\n",
    "* The model loss goes to NaN during training.\n"
   ]
  },
  {
   "cell_type": "markdown",
   "id": "e9ff9550",
   "metadata": {},
   "source": [
    "## Experiment 2 (Classification) 🔬\n",
    "\n",
    "What we will change:\n",
    "* The output layer activation function: Change from Softmax - Sigmoid\n",
    "* Adjust the batch size by adopting `Yann Lecun's` proposed batch size for batches\n",
    "* Change our optimizer to `SGD() Stochastic Gradient Descent`"
   ]
  },
  {
   "cell_type": "code",
   "execution_count": 50,
   "id": "378dca08",
   "metadata": {},
   "outputs": [
    {
     "name": "stdout",
     "output_type": "stream",
     "text": [
      "Epoch 1/10\n",
      "64333/64339 [============================>.] - ETA: 0s - loss: 4.1993e-08 - mae: 0.4893 - accuracy: 0.6781\n",
      "Epoch 00001: saving model to Callbacks/checkpoints/2022_02_23_203828_experiment2\n",
      "INFO:tensorflow:Assets written to: Callbacks/checkpoints/2022_02_23_203828_experiment2/assets\n",
      "64339/64339 [==============================] - 184s 3ms/step - loss: 4.1993e-08 - mae: 0.4893 - accuracy: 0.6781 - val_loss: 4.1919e-08 - val_mae: 0.4891 - val_accuracy: 0.6776\n",
      "Epoch 2/10\n",
      "64338/64339 [============================>.] - ETA: 0s - loss: 4.1993e-08 - mae: 0.4893 - accuracy: 0.6781\n",
      "Epoch 00002: saving model to Callbacks/checkpoints/2022_02_23_203828_experiment2\n",
      "INFO:tensorflow:Assets written to: Callbacks/checkpoints/2022_02_23_203828_experiment2/assets\n",
      "64339/64339 [==============================] - 186s 3ms/step - loss: 4.1993e-08 - mae: 0.4893 - accuracy: 0.6781 - val_loss: 4.1919e-08 - val_mae: 0.4891 - val_accuracy: 0.6776\n",
      "Epoch 3/10\n",
      "64323/64339 [============================>.] - ETA: 0s - loss: 4.1993e-08 - mae: 0.4893 - accuracy: 0.6781\n",
      "Epoch 00003: saving model to Callbacks/checkpoints/2022_02_23_203828_experiment2\n",
      "INFO:tensorflow:Assets written to: Callbacks/checkpoints/2022_02_23_203828_experiment2/assets\n",
      "64339/64339 [==============================] - 187s 3ms/step - loss: 4.1993e-08 - mae: 0.4893 - accuracy: 0.6781 - val_loss: 4.1919e-08 - val_mae: 0.4891 - val_accuracy: 0.6776\n",
      "Epoch 4/10\n",
      "64334/64339 [============================>.] - ETA: 0s - loss: 4.1994e-08 - mae: 0.4893 - accuracy: 0.6781\n",
      "Epoch 00004: saving model to Callbacks/checkpoints/2022_02_23_203828_experiment2\n",
      "INFO:tensorflow:Assets written to: Callbacks/checkpoints/2022_02_23_203828_experiment2/assets\n",
      "64339/64339 [==============================] - 186s 3ms/step - loss: 4.1993e-08 - mae: 0.4893 - accuracy: 0.6781 - val_loss: 4.1919e-08 - val_mae: 0.4891 - val_accuracy: 0.6776\n",
      "Epoch 5/10\n",
      "64323/64339 [============================>.] - ETA: 0s - loss: 4.1994e-08 - mae: 0.4893 - accuracy: 0.6781\n",
      "Epoch 00005: saving model to Callbacks/checkpoints/2022_02_23_203828_experiment2\n",
      "INFO:tensorflow:Assets written to: Callbacks/checkpoints/2022_02_23_203828_experiment2/assets\n",
      "64339/64339 [==============================] - 181s 3ms/step - loss: 4.1993e-08 - mae: 0.4893 - accuracy: 0.6781 - val_loss: 4.1919e-08 - val_mae: 0.4891 - val_accuracy: 0.6776\n",
      "Epoch 6/10\n",
      "64339/64339 [==============================] - ETA: 0s - loss: 4.1993e-08 - mae: 0.4893 - accuracy: 0.6781\n",
      "Epoch 00006: saving model to Callbacks/checkpoints/2022_02_23_203828_experiment2\n",
      "INFO:tensorflow:Assets written to: Callbacks/checkpoints/2022_02_23_203828_experiment2/assets\n",
      "64339/64339 [==============================] - 184s 3ms/step - loss: 4.1993e-08 - mae: 0.4893 - accuracy: 0.6781 - val_loss: 4.1919e-08 - val_mae: 0.4891 - val_accuracy: 0.6776\n",
      "Epoch 7/10\n",
      "64321/64339 [============================>.] - ETA: 0s - loss: 4.1992e-08 - mae: 0.4893 - accuracy: 0.6781\n",
      "Epoch 00007: saving model to Callbacks/checkpoints/2022_02_23_203828_experiment2\n",
      "INFO:tensorflow:Assets written to: Callbacks/checkpoints/2022_02_23_203828_experiment2/assets\n",
      "64339/64339 [==============================] - 179s 3ms/step - loss: 4.1993e-08 - mae: 0.4893 - accuracy: 0.6781 - val_loss: 4.1919e-08 - val_mae: 0.4891 - val_accuracy: 0.6776\n",
      "Epoch 8/10\n",
      "64334/64339 [============================>.] - ETA: 0s - loss: 4.1993e-08 - mae: 0.4893 - accuracy: 0.6781\n",
      "Epoch 00008: saving model to Callbacks/checkpoints/2022_02_23_203828_experiment2\n",
      "INFO:tensorflow:Assets written to: Callbacks/checkpoints/2022_02_23_203828_experiment2/assets\n",
      "64339/64339 [==============================] - 183s 3ms/step - loss: 4.1993e-08 - mae: 0.4893 - accuracy: 0.6781 - val_loss: 4.1919e-08 - val_mae: 0.4891 - val_accuracy: 0.6776\n",
      "Epoch 9/10\n",
      "64332/64339 [============================>.] - ETA: 0s - loss: 4.1993e-08 - mae: 0.4893 - accuracy: 0.6781\n",
      "Epoch 00009: saving model to Callbacks/checkpoints/2022_02_23_203828_experiment2\n",
      "INFO:tensorflow:Assets written to: Callbacks/checkpoints/2022_02_23_203828_experiment2/assets\n",
      "64339/64339 [==============================] - 180s 3ms/step - loss: 4.1993e-08 - mae: 0.4893 - accuracy: 0.6781 - val_loss: 4.1919e-08 - val_mae: 0.4891 - val_accuracy: 0.6776\n",
      "Epoch 10/10\n",
      "64329/64339 [============================>.] - ETA: 0s - loss: 4.1993e-08 - mae: 0.4893 - accuracy: 0.6781\n",
      "Epoch 00010: saving model to Callbacks/checkpoints/2022_02_23_203828_experiment2\n",
      "INFO:tensorflow:Assets written to: Callbacks/checkpoints/2022_02_23_203828_experiment2/assets\n",
      "64339/64339 [==============================] - 182s 3ms/step - loss: 4.1993e-08 - mae: 0.4893 - accuracy: 0.6781 - val_loss: 4.1919e-08 - val_mae: 0.4891 - val_accuracy: 0.6776\n",
      "Model: \"experiment2\"\n",
      "_________________________________________________________________\n",
      "Layer (type)                 Output Shape              Param #   \n",
      "=================================================================\n",
      "dense_36 (Dense)             (None, 64)                1600      \n",
      "_________________________________________________________________\n",
      "dense_37 (Dense)             (None, 32)                2080      \n",
      "_________________________________________________________________\n",
      "dense_38 (Dense)             (None, 1)                 33        \n",
      "=================================================================\n",
      "Total params: 3,713\n",
      "Trainable params: 3,713\n",
      "Non-trainable params: 0\n",
      "_________________________________________________________________\n"
     ]
    }
   ],
   "source": [
    "# Create a random seed to make our model reproducible\n",
    "tf.random.set_seed(42)\n",
    "\n",
    "experiment2 = tf.keras.Sequential([\n",
    "    tf.keras.layers.Dense(64, activation='relu'),\n",
    "    tf.keras.layers.Dense(32, activation='relu'),\n",
    "    tf.keras.layers.Dense(1, activation='softmax', kernel_initializer='he_uniform')\n",
    "], name='experiment2')\n",
    "\n",
    "# compile our model\n",
    "experiment2.compile(loss=tf.keras.losses.SparseCategoricalcrossentropy(),\n",
    "                           optimizer=tf.keras.optimizers.SGD(),\n",
    "                           metrics=['mae','accuracy'])\n",
    "\n",
    "# fit our model\n",
    "experiment_history_2 = experiment2.fit(weather_X_train, \n",
    "                        weather_y_train, \n",
    "                        epochs=10, \n",
    "                        batch_size=32,\n",
    "                        validation_data=(weather_X_test, weather_y_test),\n",
    "                        callbacks=[model_checkpoint_callback('Experiment2')])\n",
    "\n",
    "# summarize our model\n",
    "experiment2.summary()"
   ]
  },
  {
   "cell_type": "code",
   "execution_count": 58,
   "id": "93691e39",
   "metadata": {},
   "outputs": [
    {
     "data": {
      "image/png": "[encoded data removed]",
      "text/plain": [
       "<Figure size 432x288 with 1 Axes>"
      ]
     },
     "metadata": {
      "needs_background": "light"
     },
     "output_type": "display_data"
    }
   ],
   "source": [
    "plt.plot(experiment_history_2.history['accuracy'])\n",
    "plt.plot(experiment_history_2.history['val_accuracy'])\n",
    "plt.title('model accuracy')\n",
    "plt.ylabel('accuracy')\n",
    "plt.xlabel('epoch')\n",
    "plt.legend(['train', 'val'], loc='upper left')\n",
    "plt.show()"
   ]
  },
  {
   "cell_type": "markdown",
   "id": "8444c44f",
   "metadata": {},
   "source": [
    "## Experiment 3 (Classification) 🔬"
   ]
  },
  {
   "cell_type": "code",
   "execution_count": 7,
   "id": "b1366b6e",
   "metadata": {},
   "outputs": [],
   "source": [
    "from sklearn.ensemble import RandomForestClassifier, RandomForestRegressor\n",
    "from sklearn.metrics import accuracy_score, log_loss\n",
    "\n",
    "r_model = RandomForestClassifier(n_estimators=100)\n",
    "r_model = r_model.fit(weather_X_train, weather_y_train)"
   ]
  },
  {
   "cell_type": "code",
   "execution_count": 8,
   "id": "aeda115c",
   "metadata": {},
   "outputs": [
    {
     "data": {
      "text/plain": [
       "1.0"
      ]
     },
     "execution_count": 8,
     "metadata": {},
     "output_type": "execute_result"
    }
   ],
   "source": [
    "# Score experiment 4 model\n",
    "r_model.score(weather_X_test, weather_y_test)"
   ]
  },
  {
   "cell_type": "code",
   "execution_count": 9,
   "id": "c037cf43",
   "metadata": {},
   "outputs": [],
   "source": [
    "# Make a prediction on Experiment 3\n",
    "r_pred = r_model.predict_proba(weather_X_test)"
   ]
  },
  {
   "cell_type": "code",
   "execution_count": 10,
   "id": "e6442125",
   "metadata": {},
   "outputs": [
    {
     "data": {
      "text/plain": [
       "1.2697544963867406e-06"
      ]
     },
     "execution_count": 10,
     "metadata": {},
     "output_type": "execute_result"
    }
   ],
   "source": [
    "# find the log loss metric\n",
    "loss = log_loss(weather_y_test, r_pred)\n",
    "loss"
   ]
  },
  {
   "cell_type": "markdown",
   "id": "7415cb1a",
   "metadata": {},
   "source": [
    "## "
   ]
  },
  {
   "cell_type": "markdown",
   "id": "4e8b0755",
   "metadata": {},
   "source": [
    "**Conclusion:** We will settle with experiment 4, since it's the best performing model so far"
   ]
  },
  {
   "cell_type": "code",
   "execution_count": null,
   "id": "fa43ebea",
   "metadata": {},
   "outputs": [],
   "source": []
  },
  {
   "cell_type": "code",
   "execution_count": null,
   "id": "fb954993",
   "metadata": {},
   "outputs": [],
   "source": []
  },
  {
   "cell_type": "markdown",
   "id": "835a6b0b",
   "metadata": {},
   "source": [
    "# **Rain Percentage prediction data**"
   ]
  },
  {
   "cell_type": "markdown",
   "id": "a2217393",
   "metadata": {},
   "source": [
    "## Split our data into features and labels\n",
    "We will take a two way to solve this problem, first we will create a model to predict the weather after which we will create another to predict the Rain percentage."
   ]
  },
  {
   "cell_type": "code",
   "execution_count": 11,
   "id": "41dd6c55",
   "metadata": {},
   "outputs": [],
   "source": [
    "rain_X = data.drop('M_RAIN_PERCENTAGE', axis=1)\n",
    "rain_y = data['M_RAIN_PERCENTAGE']"
   ]
  },
  {
   "cell_type": "code",
   "execution_count": 12,
   "id": "62f188e4",
   "metadata": {},
   "outputs": [],
   "source": [
    "rain_X_train, rain_X_test, rain_y_train, rain_y_test = train_test_split(rain_X, rain_y, test_size=.25, random_state=42)"
   ]
  },
  {
   "cell_type": "markdown",
   "id": "9d5bc1be",
   "metadata": {},
   "source": [
    "## Experiment 1 (Regression) 🔬"
   ]
  },
  {
   "cell_type": "code",
   "execution_count": 13,
   "id": "082e0da7",
   "metadata": {},
   "outputs": [],
   "source": [
    "from sklearn.ensemble import RandomForestRegressor"
   ]
  },
  {
   "cell_type": "code",
   "execution_count": 14,
   "id": "fcf52852",
   "metadata": {},
   "outputs": [],
   "source": [
    "rg_model = RandomForestRegressor(n_estimators=100)\n",
    "rg_model = rg_model.fit(rain_X_train, rain_y_train)"
   ]
  },
  {
   "cell_type": "code",
   "execution_count": 15,
   "id": "cf129c59",
   "metadata": {},
   "outputs": [
    {
     "data": {
      "text/plain": [
       "0.9999975360596536"
      ]
     },
     "execution_count": 15,
     "metadata": {},
     "output_type": "execute_result"
    }
   ],
   "source": [
    "rg_score = rg_model.score(rain_X_train, rain_y_train)\n",
    "rg_score"
   ]
  },
  {
   "cell_type": "code",
   "execution_count": 16,
   "id": "c8e990cf",
   "metadata": {},
   "outputs": [
    {
     "data": {
      "text/plain": [
       "0.00011661420994346334"
      ]
     },
     "execution_count": 16,
     "metadata": {},
     "output_type": "execute_result"
    }
   ],
   "source": [
    "from sklearn.metrics import mean_absolute_error\n",
    "rg_pred = rg_model.predict(rain_X_test)\n",
    "mean_absolute_error(rain_y_test, rg_pred)"
   ]
  },
  {
   "cell_type": "markdown",
   "id": "4a933271",
   "metadata": {},
   "source": [
    "## MultiOutput Classifier🔬\n",
    "Multilabel classification support can be added to any classifier with MultiOutputClassifier. This strategy consists of fitting one classifier per target. This allows multiple target variable classifications. The purpose of this class is to extend estimators to be able to estimate a series of target functions (f1,f2,f3…,fn) that are trained on a single X predictor matrix to predict a series of responses (y1,y2,y3…,yn).\n",
    "\n",
    "\n",
    "**Source:** https://scikit-learn.org/stable/modules/multiclass.html#multioutputclassifier\n",
    "\n",
    "\n",
    "**Note** This is aimed at helping us return the multiple predictions at once\n"
   ]
  },
  {
   "cell_type": "code",
   "execution_count": 17,
   "id": "bb05c747",
   "metadata": {},
   "outputs": [],
   "source": [
    "# Split the data into features and variables\n",
    "X = data.drop(['M_WEATHER','M_RAIN_PERCENTAGE'], axis=1)\n",
    "y = data[['M_WEATHER','M_RAIN_PERCENTAGE']]"
   ]
  },
  {
   "cell_type": "code",
   "execution_count": 18,
   "id": "83cdc441",
   "metadata": {},
   "outputs": [],
   "source": [
    "# Split into train and test sets\n",
    "X_train, X_test, y_train, y_test = train_test_split(X,y, test_size=.2, random_state=42)"
   ]
  },
  {
   "cell_type": "code",
   "execution_count": null,
   "id": "3bfe2c86",
   "metadata": {},
   "outputs": [],
   "source": [
    "from sklearn.multioutput import MultiOutputClassifier\n",
    "moc_model = MultiOutputClassifier(r_model)\n",
    "# fit the model\n",
    "moc_model = moc_model.fit(X_train, y_train)"
   ]
  },
  {
   "cell_type": "code",
   "execution_count": null,
   "id": "e9d2bd4e",
   "metadata": {},
   "outputs": [],
   "source": [
    "# Scoring the model based on accuracy\n",
    "moc_model.score(X_test, y_test)"
   ]
  },
  {
   "cell_type": "code",
   "execution_count": null,
   "id": "4cd81fdf",
   "metadata": {},
   "outputs": [],
   "source": [
    "import pickle"
   ]
  },
  {
   "cell_type": "code",
   "execution_count": null,
   "id": "c14e0008",
   "metadata": {},
   "outputs": [],
   "source": [
    "def test_predict(X, model):\n",
    "    \"\"\"\n",
    "    returns a test json response of prediction across the periods of [5,10,15,30,60]\n",
    "    \"\"\"\n",
    "    output = dict()\n",
    "    periods = [5,10,15,30,60]\n",
    "    \n",
    "    for i in periods:\n",
    "        #Assign an offset to the picked offset\n",
    "        X['M_TIME_OFFSET'] = i\n",
    "        prediction = model.predict([X])\n",
    "        \n",
    "        output[i] = {\n",
    "            'weather_type': int(prediction[0][0]),\n",
    "            'rain_percentage' : round(prediction[0][1],2)\n",
    "        }\n",
    "    return json.dumps(output)"
   ]
  },
  {
   "cell_type": "code",
   "execution_count": null,
   "id": "de3a220b",
   "metadata": {},
   "outputs": [],
   "source": [
    "input_X = X_test.iloc[10]"
   ]
  },
  {
   "cell_type": "code",
   "execution_count": null,
   "id": "105ed60e",
   "metadata": {},
   "outputs": [],
   "source": [
    "# make prediction on test\n",
    "print(test_predict(input_X, moc_model))"
   ]
  },
  {
   "cell_type": "code",
   "execution_count": null,
   "id": "e4286e16",
   "metadata": {},
   "outputs": [],
   "source": [
    "\n",
    "pickle.dump(moc_model, open('model.pkl', 'wb')))"
   ]
  },
  {
   "cell_type": "code",
   "execution_count": null,
   "id": "292853cd",
   "metadata": {},
   "outputs": [],
   "source": []
  },
  {
   "cell_type": "code",
   "execution_count": null,
   "id": "f956f0cd",
   "metadata": {},
   "outputs": [],
   "source": []
  }
 ],
 "metadata": {
  "kernelspec": {
   "display_name": "Python [conda env:generalmachinelearningforcpusvy]",
   "language": "python",
   "name": "conda-env-generalmachinelearningforcpusvy-py"
  },
  "language_info": {
   "codemirror_mode": {
    "name": "ipython",
    "version": 3
   },
   "file_extension": ".py",
   "mimetype": "text/x-python",
   "name": "python",
   "nbconvert_exporter": "python",
   "pygments_lexer": "ipython3",
   "version": "3.6.11"
  }
 },
 "nbformat": 4,
 "nbformat_minor": 5
}
