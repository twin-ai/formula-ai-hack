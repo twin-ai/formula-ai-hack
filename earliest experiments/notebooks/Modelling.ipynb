{
 "cells": [
  {
   "cell_type": "markdown",
   "id": "d04b9f77",
   "metadata": {},
   "source": [
    "## Modelling"
   ]
  },
  {
   "cell_type": "markdown",
   "id": "12dc62c8",
   "metadata": {},
   "source": [
    "### Import Neccesary Libraries"
   ]
  },
  {
   "cell_type": "code",
   "execution_count": 5,
   "id": "00defaba",
   "metadata": {},
   "outputs": [],
   "source": [
    "from sklearn.preprocessing import StandardScaler\n",
    "import matplotlib.pyplot as plt\n",
    "import tensorflow as tf\n",
    "import pandas as pd\n",
    "import numpy as np\n",
    "import datetime\n",
    "import os"
   ]
  },
  {
   "cell_type": "code",
   "execution_count": 14,
   "id": "10052c53",
   "metadata": {},
   "outputs": [],
   "source": [
    "# Import custom helper functions\n",
    "from helpers import make_windows,train_test_split,model_checkpoint_callback, evaluate_model, predict, plot_series"
   ]
  },
  {
   "cell_type": "markdown",
   "id": "2429b12c",
   "metadata": {},
   "source": [
    "## Import data"
   ]
  },
  {
   "cell_type": "code",
   "execution_count": null,
   "id": "18d9565b",
   "metadata": {},
   "outputs": [],
   "source": [
    "data = pd.read_csv('please enter path to prepared data')"
   ]
  },
  {
   "cell_type": "code",
   "execution_count": null,
   "id": "250166af",
   "metadata": {},
   "outputs": [],
   "source": [
    "# Normalize our data\n",
    "scaler = StandardScaler()\n",
    "scaler = scaler.fit(data)\n",
    "scaled_data = scaler.transform(data)"
   ]
  },
  {
   "cell_type": "code",
   "execution_count": 11,
   "id": "12fe108f",
   "metadata": {},
   "outputs": [],
   "source": [
    "HORIZON = 5\n",
    "WINDOW = 60"
   ]
  },
  {
   "cell_type": "code",
   "execution_count": null,
   "id": "8bd09496",
   "metadata": {},
   "outputs": [],
   "source": [
    "windows, labels = make_windows(scaled_data)"
   ]
  },
  {
   "cell_type": "markdown",
   "id": "b974db70",
   "metadata": {},
   "source": [
    "### Split the window and label data into train and test set"
   ]
  },
  {
   "cell_type": "code",
   "execution_count": null,
   "id": "b6e74b1a",
   "metadata": {},
   "outputs": [],
   "source": [
    "X_train, X_test, y_train, y_test = train_test_split(windows, labels)\n",
    "X_train.shape, X_test.shape, y_train.shape, y_test.shape"
   ]
  },
  {
   "cell_type": "code",
   "execution_count": null,
   "id": "fb864801",
   "metadata": {},
   "outputs": [],
   "source": [
    "# Convert our data to tensors\n",
    "X_train = tf.constant(tf.cast(X_train, tf.float32))\n",
    "y_train = tf.constant(tf.cast(y_train, tf.float32))\n",
    "\n",
    "X_test = tf.constant(tf.cast(X_test, tf.float32))\n",
    "y_test = tf.constant(tf.cast(y_test, tf.float32))"
   ]
  },
  {
   "cell_type": "markdown",
   "id": "d7e7eb9e",
   "metadata": {},
   "source": [
    "## Build our model"
   ]
  },
  {
   "cell_type": "code",
   "execution_count": null,
   "id": "402866a2",
   "metadata": {},
   "outputs": [],
   "source": [
    "# Create a random seed to make our model reproducible\n",
    "tf.random.set_seed(42)\n",
    "\n",
    "base_model = tf.keras.Sequential([\n",
    "    tf.keras.layers.InputLayer(input_shape=(60, 2)),\n",
    "    tf.keras.layers.LSTM(64, activation='relu', return_sequences=True),\n",
    "    tf.keras.layers.LSTM(32, activation='relu', return_sequences=False),\n",
    "    tf.keras.layers.Dropout(.2),\n",
    "    tf.keras.layers.Dense(2)\n",
    "], name='base_model')\n",
    "\n",
    "# compile our model\n",
    "base_model.compile(loss=tf.keras.losses.mae,\n",
    "              optimizer=tf.keras.optimizers.Adam(),\n",
    "              metrics=['mae'])\n",
    "\n",
    "# fit our model\n",
    "history = base_model.fit(X_train, \n",
    "                        y_train, \n",
    "                        epochs=5, \n",
    "                        batch_size=60,\n",
    "                        validation_data=(X_test, y_test),\n",
    "                        shuffle=False,\n",
    "                        callbacks=[model_checkpoint_callback('BaseModel')])\n",
    "\n",
    "# summarize our model\n",
    "base_model.summary()"
   ]
  },
  {
   "cell_type": "markdown",
   "id": "16f21028",
   "metadata": {},
   "source": [
    "### Evaluate our model performance from the best saved checkpoint"
   ]
  },
  {
   "cell_type": "code",
   "execution_count": null,
   "id": "0bdf2502",
   "metadata": {},
   "outputs": [],
   "source": [
    "evaluate_model('Callbacks/checkpoints/', \n",
    "               x_test=X_test, \n",
    "               y_test=y_test)"
   ]
  },
  {
   "cell_type": "markdown",
   "id": "99f012b0",
   "metadata": {},
   "source": [
    "## Make a forecast\n",
    "**📝 Note:** These are only psuedo forecasts"
   ]
  },
  {
   "cell_type": "code",
   "execution_count": null,
   "id": "416eb445",
   "metadata": {},
   "outputs": [],
   "source": [
    "y_pred = predict(base_model, X_test)"
   ]
  },
  {
   "cell_type": "markdown",
   "id": "3479a40a",
   "metadata": {},
   "source": [
    "Classical Classification"
   ]
  },
  {
   "cell_type": "code",
   "execution_count": null,
   "id": "83299b48",
   "metadata": {},
   "outputs": [],
   "source": [
    "target = ['M_WEATHER', 'M_RAIN_PERCENTAGE']\n",
    "y = df[target]\n",
    "X = df.drop(target, axis=1)"
   ]
  },
  {
   "cell_type": "markdown",
   "id": "0bcff4a3",
   "metadata": {},
   "source": [
    "### To Predict the Weather <b>Classification</b>"
   ]
  },
  {
   "cell_type": "code",
   "execution_count": null,
   "id": "aacb0f25",
   "metadata": {},
   "outputs": [],
   "source": [
    "#Machine Learning Algorithm (MLA) Selection and Initialization\n",
    "MLA = [\n",
    "    #Ensemble Methods\n",
    "    ensemble.AdaBoostClassifier(),\n",
    "    ensemble.BaggingClassifier(),\n",
    "    ensemble.ExtraTreesClassifier(),\n",
    "    ensemble.GradientBoostingClassifier(),\n",
    "    ensemble.RandomForestClassifier(),\n",
    "\n",
    "    #Gaussian Processes\n",
    "    gaussian_process.GaussianProcessClassifier(),\n",
    "    \n",
    "    #GLM\n",
    "    linear_model.LogisticRegressionCV(),\n",
    "    linear_model.PassiveAggressiveClassifier(),\n",
    "    linear_model.RidgeClassifierCV(),\n",
    "    linear_model.SGDClassifier(),\n",
    "    linear_model.Perceptron(),\n",
    "    \n",
    "    #Navies Bayes\n",
    "    naive_bayes.BernoulliNB(),\n",
    "    naive_bayes.GaussianNB(),\n",
    "    \n",
    "    #Nearest Neighbor\n",
    "    neighbors.KNeighborsClassifier(),\n",
    "    \n",
    "    #SVM\n",
    "    svm.SVC(probability=True),\n",
    "    svm.NuSVC(probability=True),\n",
    "    svm.LinearSVC(),\n",
    "    \n",
    "    #Trees    \n",
    "    tree.DecisionTreeClassifier(),\n",
    "    tree.ExtraTreeClassifier(),\n",
    "    \n",
    "    #Discriminant Analysis\n",
    "    discriminant_analysis.LinearDiscriminantAnalysis(),\n",
    "    discriminant_analysis.QuadraticDiscriminantAnalysis(),\n",
    "\n",
    "    \n",
    "    #xgboost: http://xgboost.readthedocs.io/en/latest/model.html\n",
    "    XGBClassifier()    \n",
    "    ]\n",
    "\n",
    "\n",
    "\n",
    "#split dataset in cross-validation with this splitter class: http://scikit-learn.org/stable/modules/generated/sklearn.model_selection.ShuffleSplit.html#sklearn.model_selection.ShuffleSplit\n",
    "#note: this is an alternative to train_test_split\n",
    "cv_split = model_selection.ShuffleSplit(n_splits = 10, test_size = .3, \n",
    "                                        train_size = .6, random_state = 0 ) # run model 10x with 60/30 split intentionally leaving out 10%\n",
    "\n",
    "#create table to compare MLA metrics\n",
    "MLA_columns = ['MLA Name', 'MLA Parameters','MLA Train Accuracy Mean', \n",
    "               'MLA Test Accuracy Mean', 'MLA Test Accuracy 3*STD' ,'MLA Time']\n",
    "MLA_compare = pd.DataFrame(columns = MLA_columns)\n",
    "\n",
    "#create table to compare MLA predictions\n",
    "MLA_predict = data1[Target]\n",
    "\n",
    "#index through MLA and save performance to table\n",
    "row_index = 0\n",
    "for alg in MLA:\n",
    "\n",
    "    #set name and parameters\n",
    "    MLA_name = alg.__class__.__name__\n",
    "    MLA_compare.loc[row_index, 'MLA Name'] = MLA_name\n",
    "    MLA_compare.loc[row_index, 'MLA Parameters'] = str(alg.get_params())\n",
    "    \n",
    "    #score model with cross validation: http://scikit-learn.org/stable/modules/generated/sklearn.model_selection.cross_validate.html#sklearn.model_selection.cross_validate\n",
    "    cv_results = model_selection.cross_validate(alg, X, df['M_WEATHER'], cv  = cv_split)\n",
    "\n",
    "    MLA_compare.loc[row_index, 'MLA Time'] = cv_results['fit_time'].mean()\n",
    "    MLA_compare.loc[row_index, 'MLA Train Accuracy Mean'] = cv_results['train_score'].mean()\n",
    "    MLA_compare.loc[row_index, 'MLA Test Accuracy Mean'] = cv_results['test_score'].mean()   \n",
    "    #if this is a non-bias random sample, then +/-3 standard deviations (std) from the mean, should statistically capture 99.7% of the subsets\n",
    "    MLA_compare.loc[row_index, 'MLA Test Accuracy 3*STD'] = cv_results['test_score'].std()*3   #let's know the worst that can happen!\n",
    "    \n",
    "\n",
    "    #save MLA predictions - see section 6 for usage\n",
    "    alg.fit(X, df['M_WEATHER'])\n",
    "    MLA_predict[MLA_name] = alg.predict(X)\n",
    "    \n",
    "    row_index+=1\n",
    "\n",
    "    \n",
    "#print and sort table: https://pandas.pydata.org/pandas-docs/stable/generated/pandas.DataFrame.sort_values.html\n",
    "MLA_compare.sort_values(by = ['MLA Test Accuracy Mean'], ascending = False, inplace = True)\n",
    "MLA_compare\n",
    "#MLA_predict"
   ]
  },
  {
   "cell_type": "code",
   "execution_count": null,
   "id": "9c88d0cb",
   "metadata": {},
   "outputs": [],
   "source": [
    "#barplot using https://seaborn.pydata.org/generated/seaborn.barplot.html\n",
    "sns.barplot(x='MLA Test Accuracy Mean', y = 'MLA Name', data = MLA_compare, color = 'm')\n",
    "\n",
    "#prettify using pyplot: https://matplotlib.org/api/pyplot_api.html\n",
    "plt.title('Machine Learning Algorithm Accuracy Score \\n')\n",
    "plt.xlabel('Accuracy Score (%)')\n",
    "plt.ylabel('Algorithm')"
   ]
  },
  {
   "cell_type": "code",
   "execution_count": null,
   "id": "5da0df71",
   "metadata": {},
   "outputs": [],
   "source": [
    "#base model\n",
    "dtree = tree.DecisionTreeClassifier(random_state = 0)\n",
    "base_results = model_selection.cross_validate(dtree, X, df['M_WEATHER'], \n",
    "                                              cv  = cv_split)\n",
    "dtree.fit(X, df['M_WEATHER'])\n",
    "\n",
    "print('BEFORE DT Parameters: ', dtree.get_params())\n",
    "print(\"BEFORE DT Training w/bin score mean: {:.2f}\". format(base_results['train_score'].mean()*100)) \n",
    "print(\"BEFORE DT Test w/bin score mean: {:.2f}\". format(base_results['test_score'].mean()*100))\n",
    "print(\"BEFORE DT Test w/bin score 3*std: +/- {:.2f}\". format(base_results['test_score'].std()*100*3))\n",
    "#print(\"BEFORE DT Test w/bin set score min: {:.2f}\". format(base_results['test_score'].min()*100))\n",
    "print('-'*10)\n",
    "\n",
    "\n",
    "#tune hyper-parameters: http://scikit-learn.org/stable/modules/generated/sklearn.tree.DecisionTreeClassifier.html#sklearn.tree.DecisionTreeClassifier\n",
    "param_grid = {'criterion': ['gini', 'entropy'],  #scoring methodology; two supported formulas for calculating information gain - default is gini\n",
    "              #'splitter': ['best', 'random'], #splitting methodology; two supported strategies - default is best\n",
    "              'max_depth': [2,4,6,8,10,None], #max depth tree can grow; default is none\n",
    "              #'min_samples_split': [2,5,10,.03,.05], #minimum subset size BEFORE new split (fraction is % of total); default is 2\n",
    "              #'min_samples_leaf': [1,5,10,.03,.05], #minimum subset size AFTER new split split (fraction is % of total); default is 1\n",
    "              #'max_features': [None, 'auto'], #max features to consider when performing split; default none or all\n",
    "              'random_state': [0] #seed or control random number generator: https://www.quora.com/What-is-seed-in-random-number-generation\n",
    "             }\n",
    "\n",
    "#print(list(model_selection.ParameterGrid(param_grid)))\n",
    "\n",
    "#choose best model with grid_search: #http://scikit-learn.org/stable/modules/grid_search.html#grid-search\n",
    "#http://scikit-learn.org/stable/auto_examples/model_selection/plot_grid_search_digits.html\n",
    "tune_model = model_selection.GridSearchCV(tree.DecisionTreeClassifier(), param_grid=param_grid, scoring = 'roc_auc', cv = cv_split)\n",
    "tune_model.fit(X, df['M_WEATHER'])\n",
    "\n",
    "#print(tune_model.cv_results_.keys())\n",
    "#print(tune_model.cv_results_['params'])\n",
    "print('AFTER DT Parameters: ', tune_model.best_params_)\n",
    "#print(tune_model.cv_results_['mean_train_score'])\n",
    "print(\"AFTER DT Training w/bin score mean: {:.2f}\". format(tune_model.cv_results_['mean_train_score'][tune_model.best_index_]*100)) \n",
    "#print(tune_model.cv_results_['mean_test_score'])\n",
    "print(\"AFTER DT Test w/bin score mean: {:.2f}\". format(tune_model.cv_results_['mean_test_score'][tune_model.best_index_]*100))\n",
    "print(\"AFTER DT Test w/bin score 3*std: +/- {:.2f}\". format(tune_model.cv_results_['std_test_score'][tune_model.best_index_]*100*3))\n",
    "print('-'*10)\n",
    "\n",
    "\n",
    "#duplicates gridsearchcv\n",
    "#tune_results = model_selection.cross_validate(tune_model, data1[data1_x_bin], data1[Target], cv  = cv_split)\n",
    "\n",
    "#print('AFTER DT Parameters: ', tune_model.best_params_)\n",
    "#print(\"AFTER DT Training w/bin set score mean: {:.2f}\". format(tune_results['train_score'].mean()*100)) \n",
    "#print(\"AFTER DT Test w/bin set score mean: {:.2f}\". format(tune_results['test_score'].mean()*100))\n",
    "#print(\"AFTER DT Test w/bin set score min: {:.2f}\". format(tune_results['test_score'].min()*100))\n",
    "#print('-'*10)"
   ]
  },
  {
   "cell_type": "code",
   "execution_count": null,
   "id": "51d04851",
   "metadata": {},
   "outputs": [],
   "source": [
    "#Graph MLA version of Decision Tree: http://scikit-learn.org/stable/modules/generated/sklearn.tree.export_graphviz.html\n",
    "import graphviz \n",
    "dot_data = tree.export_graphviz(dtree, out_file=None, \n",
    "                                feature_names = X, class_names = True,\n",
    "                                filled = True, rounded = True)\n",
    "graph = graphviz.Source(dot_data) \n",
    "graph"
   ]
  },
  {
   "cell_type": "markdown",
   "id": "f0d7639c",
   "metadata": {},
   "source": [
    "<a id=\"ch11\"></a>\n",
    "# Model Validate and Implement\n",
    "The next step is to prepare for submission using the validation data. "
   ]
  },
  {
   "cell_type": "code",
   "execution_count": null,
   "id": "ac95627a",
   "metadata": {},
   "outputs": [],
   "source": []
  }
 ],
 "metadata": {
  "kernelspec": {
   "display_name": "Python 3",
   "language": "python",
   "name": "python3"
  },
  "language_info": {
   "codemirror_mode": {
    "name": "ipython",
    "version": 3
   },
   "file_extension": ".py",
   "mimetype": "text/x-python",
   "name": "python",
   "nbconvert_exporter": "python",
   "pygments_lexer": "ipython3",
   "version": "3.6.10"
  }
 },
 "nbformat": 4,
 "nbformat_minor": 5
}
